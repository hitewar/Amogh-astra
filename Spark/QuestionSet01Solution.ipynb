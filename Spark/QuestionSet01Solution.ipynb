{
 "cells": [
  {
   "cell_type": "code",
   "execution_count": 35,
   "metadata": {
    "collapsed": true
   },
   "outputs": [],
   "source": [
    "#  Answer the questions sequentially with proper question number in comment at the top.\n",
    "#  Each question carries different marks.      \n",
    "# All the necessary imports\n",
    "from pyspark import SparkContext \n",
    "from pyspark.sql import SQLContext\n",
    "from pyspark.sql.types import *\n",
    "from pyspark.sql.functions import *\n",
    "from pyspark.sql import Row\n",
    "sqlContext = SQLContext(sc)\n",
    "sc.stop()"
   ]
  },
  {
   "cell_type": "code",
   "execution_count": 1,
   "metadata": {},
   "outputs": [
    {
     "name": "stdout",
     "output_type": "stream",
     "text": [
      "root\n",
      " |-- Year: integer (nullable = true)\n",
      " |-- Country: string (nullable = true)\n",
      " |-- Winner: string (nullable = true)\n",
      " |-- Runners-Up: string (nullable = true)\n",
      " |-- Third: string (nullable = true)\n",
      " |-- Fourth: string (nullable = true)\n",
      " |-- GoalsScored: integer (nullable = true)\n",
      " |-- QualifiedTeams: integer (nullable = true)\n",
      " |-- MatchesPlayed: integer (nullable = true)\n",
      " |-- Attendance: string (nullable = true)\n",
      "\n",
      "+----+------------+----------+--------------+-----------+--------------+-----------+--------------+-------------+----------+\n",
      "|Year|     Country|    Winner|    Runners-Up|      Third|        Fourth|GoalsScored|QualifiedTeams|MatchesPlayed|Attendance|\n",
      "+----+------------+----------+--------------+-----------+--------------+-----------+--------------+-------------+----------+\n",
      "|1930|     Uruguay|   Uruguay|     Argentina|        USA|    Yugoslavia|         70|            13|           18|   590.549|\n",
      "|1934|       Italy|     Italy|Czechoslovakia|    Germany|       Austria|         70|            16|           17|   363.000|\n",
      "|1938|      France|     Italy|       Hungary|     Brazil|        Sweden|         84|            15|           18|   375.700|\n",
      "|1950|      Brazil|   Uruguay|        Brazil|     Sweden|         Spain|         88|            13|           22| 1.045.246|\n",
      "|1954| Switzerland|Germany FR|       Hungary|    Austria|       Uruguay|        140|            16|           26|   768.607|\n",
      "|1958|      Sweden|    Brazil|        Sweden|     France|    Germany FR|        126|            16|           35|   819.810|\n",
      "|1962|       Chile|    Brazil|Czechoslovakia|      Chile|    Yugoslavia|         89|            16|           32|   893.172|\n",
      "|1966|     England|   England|    Germany FR|   Portugal|  Soviet Union|         89|            16|           32| 1.563.135|\n",
      "|1970|      Mexico|    Brazil|         Italy| Germany FR|       Uruguay|         95|            16|           32| 1.603.975|\n",
      "|1974|     Germany|Germany FR|   Netherlands|     Poland|        Brazil|         97|            16|           38| 1.865.753|\n",
      "|1978|   Argentina| Argentina|   Netherlands|     Brazil|         Italy|        102|            16|           38| 1.545.791|\n",
      "|1982|       Spain|     Italy|    Germany FR|     Poland|        France|        146|            24|           52| 2.109.723|\n",
      "|1986|      Mexico| Argentina|    Germany FR|     France|       Belgium|        132|            24|           52| 2.394.031|\n",
      "|1990|       Italy|Germany FR|     Argentina|      Italy|       England|        115|            24|           52| 2.516.215|\n",
      "|1994|         USA|    Brazil|         Italy|     Sweden|      Bulgaria|        141|            24|           52| 3.587.538|\n",
      "|1998|      France|    France|        Brazil|    Croatia|   Netherlands|        171|            32|           64| 2.785.100|\n",
      "|2002| Korea/Japan|    Brazil|       Germany|     Turkey|Korea Republic|        161|            32|           64| 2.705.197|\n",
      "|2006|     Germany|     Italy|        France|    Germany|      Portugal|        147|            32|           64| 3.359.439|\n",
      "|2010|South Africa|     Spain|   Netherlands|    Germany|       Uruguay|        145|            32|           64| 3.178.856|\n",
      "|2014|      Brazil|   Germany|     Argentina|Netherlands|        Brazil|        171|            32|           64| 3.386.810|\n",
      "+----+------------+----------+--------------+-----------+--------------+-----------+--------------+-------------+----------+\n",
      "\n"
     ]
    }
   ],
   "source": [
    "#01 We have fifa world cup datasets on which we want certain analysis.\n",
    "#   a) Do some data cleaning on column name Attendance as to remove '.' character ?(eg. '590.554' => 590554 in integer)    2\n",
    "#   b) List the countries based on the number of world Cup final they have won in descending order?(Note: required columns:WinningCountry,#fifaWCwinner)     2\n",
    "#   c) List the countries based on total number of audience watched their final world cup match  and order them in descending order?(Note: required columns:Country,TotalAttendance)  3\n",
    "#   d) List out the countries who came into fifa final but never won and also winner countries who never came in second position?     3\n",
    "\n",
    "df = (sqlContext.read.format('com.databricks.spark.csv')\n",
    "      .options(header='true', inferschema='true')\n",
    "      .load('/home/affine/Desktop/Affine/07PySpark/Questions_Data_Pyspark_Test/FIFA/WorldCups.csv')\n",
    "      )\n",
    "df.printSchema()\n",
    "df.show()"
   ]
  },
  {
   "cell_type": "code",
   "execution_count": 3,
   "metadata": {},
   "outputs": [
    {
     "name": "stdout",
     "output_type": "stream",
     "text": [
      "root\n",
      " |-- Year: integer (nullable = true)\n",
      " |-- Country: string (nullable = true)\n",
      " |-- Winner: string (nullable = true)\n",
      " |-- Runners-Up: string (nullable = true)\n",
      " |-- Third: string (nullable = true)\n",
      " |-- Fourth: string (nullable = true)\n",
      " |-- GoalsScored: integer (nullable = true)\n",
      " |-- QualifiedTeams: integer (nullable = true)\n",
      " |-- MatchesPlayed: integer (nullable = true)\n",
      " |-- Attendance: integer (nullable = true)\n",
      "\n",
      "+----------+\n",
      "|Attendance|\n",
      "+----------+\n",
      "|    590549|\n",
      "|    363000|\n",
      "|    375700|\n",
      "|   1045246|\n",
      "|    768607|\n",
      "|    819810|\n",
      "|    893172|\n",
      "|   1563135|\n",
      "|   1603975|\n",
      "|   1865753|\n",
      "|   1545791|\n",
      "|   2109723|\n",
      "|   2394031|\n",
      "|   2516215|\n",
      "|   3587538|\n",
      "|   2785100|\n",
      "|   2705197|\n",
      "|   3359439|\n",
      "|   3178856|\n",
      "|   3386810|\n",
      "+----------+\n",
      "\n"
     ]
    }
   ],
   "source": [
    "#Solution 01 a):\n",
    "df = df.withColumn(\"Attendance\", regexp_replace('Attendance', '[.]', '').cast(IntegerType()))\n",
    "\n",
    "#Checks:\n",
    "df.printSchema() #Datatype would change to Integer,double or float but not string\n",
    "df.select('Attendance').show() #The '.' character  should be removed from Attendance column "
   ]
  },
  {
   "cell_type": "code",
   "execution_count": 4,
   "metadata": {},
   "outputs": [
    {
     "name": "stdout",
     "output_type": "stream",
     "text": [
      "+--------------+-------------+\n",
      "|WinningCountry|#fifaWCwinner|\n",
      "+--------------+-------------+\n",
      "|        Brazil|            5|\n",
      "|         Italy|            4|\n",
      "|    Germany FR|            3|\n",
      "|     Argentina|            2|\n",
      "|       Uruguay|            2|\n",
      "|        France|            1|\n",
      "|       England|            1|\n",
      "|         Spain|            1|\n",
      "|       Germany|            1|\n",
      "+--------------+-------------+\n",
      "\n"
     ]
    }
   ],
   "source": [
    "#Solution 01 b):\n",
    "df1=df.groupBy('Winner').count().sort('count', ascending=False).select(col('Winner').alias('WinningCountry'),col('count').alias(\"#fifaWCwinner\"))\n",
    "df1.show()\n",
    "#Results should match"
   ]
  },
  {
   "cell_type": "code",
   "execution_count": 5,
   "metadata": {},
   "outputs": [
    {
     "name": "stdout",
     "output_type": "stream",
     "text": [
      "+--------------+---------------+\n",
      "|       Country|TotalAttendance|\n",
      "+--------------+---------------+\n",
      "|        Brazil|       13440038|\n",
      "|         Italy|       11399375|\n",
      "|    Germany FR|       11217464|\n",
      "|     Argentina|       10433396|\n",
      "|   Netherlands|        6590400|\n",
      "|        France|        6144539|\n",
      "|       Germany|        6092007|\n",
      "|         Spain|        3178856|\n",
      "|       Uruguay|        1635795|\n",
      "|       England|        1563135|\n",
      "|Czechoslovakia|        1256172|\n",
      "|       Hungary|        1144307|\n",
      "|        Sweden|         819810|\n",
      "+--------------+---------------+\n",
      "\n"
     ]
    }
   ],
   "source": [
    "#Solution 01 c):\n",
    "df1=df.select('Winner','Attendance')\n",
    "df2=df.select('Runners-Up','Attendance')\n",
    "df3=df1.union(df2)\n",
    "df3.groupBy('Winner').sum('Attendance').sort('sum(Attendance)', ascending=False).select(col('Winner').alias('Country'),col('sum(Attendance)').alias(\"TotalAttendance\")).show()\n",
    "\n",
    "#Results should match"
   ]
  },
  {
   "cell_type": "code",
   "execution_count": 6,
   "metadata": {},
   "outputs": [
    {
     "name": "stdout",
     "output_type": "stream",
     "text": [
      "+-------+\n",
      "| Winner|\n",
      "+-------+\n",
      "|  Spain|\n",
      "|Uruguay|\n",
      "|England|\n",
      "+-------+\n",
      "\n",
      "+--------------+\n",
      "|    Runners-up|\n",
      "+--------------+\n",
      "|        Sweden|\n",
      "|Czechoslovakia|\n",
      "|       Hungary|\n",
      "|   Netherlands|\n",
      "+--------------+\n",
      "\n"
     ]
    }
   ],
   "source": [
    "#Solution 01 d)\n",
    "df.select('Winner').subtract(df.select('Runners-up')).show()\n",
    "df.select('Runners-up').subtract(df.select('Winner')).show()"
   ]
  },
  {
   "cell_type": "code",
   "execution_count": 7,
   "metadata": {
    "collapsed": true
   },
   "outputs": [],
   "source": [
    "# 2)   Solve below parts using rdd only.\n",
    "#      a) Create a rdd from DJBravolyrics.txt File.     1                                             \n",
    "#      b) Calculate Total number of  words in song.     2\n",
    "#      c) Order each distinct line in text file based on their length and see pattern for next question.   2\n",
    "#      d) Find out all the famous personaties in lyric.   3\n",
    "\n"
   ]
  },
  {
   "cell_type": "code",
   "execution_count": 8,
   "metadata": {
    "collapsed": true
   },
   "outputs": [],
   "source": [
    "#Solution 02 a)\n",
    "rdd=sc.textFile(\"/home/affine/Desktop/Affine/07PySpark/Questions_Data_Pyspark_Test/DJBravolyrics.txt\")\n",
    "#rdd.collect()"
   ]
  },
  {
   "cell_type": "code",
   "execution_count": 9,
   "metadata": {},
   "outputs": [
    {
     "data": {
      "text/plain": [
       "259"
      ]
     },
     "execution_count": 9,
     "metadata": {},
     "output_type": "execute_result"
    }
   ],
   "source": [
    "#Solution 02 b)\n",
    "rdd2=rdd.map(lambda k: len(k.split(' ')))\n",
    "rdd2.sum()"
   ]
  },
  {
   "cell_type": "code",
   "execution_count": 10,
   "metadata": {},
   "outputs": [
    {
     "data": {
      "text/plain": [
       "[\"Don't forget\",\n",
       " 'Obama a champion',\n",
       " 'Wendy a champion',\n",
       " 'DJ Bravo DJ Bravo',\n",
       " 'Champion champion',\n",
       " 'Beenie a champion',\n",
       " 'Serena a champion',\n",
       " 'Bounty a champion',\n",
       " 'Mandela a champion',\n",
       " 'Lara is a champion',\n",
       " 'Champion, champion',\n",
       " 'Bunji is a champion',\n",
       " 'Gayle is a champion',\n",
       " '958 BOLT a champion',\n",
       " 'Machel is a champion',\n",
       " 'Pollard is a champion',\n",
       " 'Shelly-Ann a champion',\n",
       " 'Michel Jordan a champion',\n",
       " 'We love soca and dancehall',\n",
       " 'Every vincy and every banjan',\n",
       " 'We love cricket and football',\n",
       " 'Champion we are real champion',\n",
       " 'Every trini and every yard man',\n",
       " \"Don't vex if your name not call\",\n",
       " 'Everybody know say Bravo a champion',\n",
       " 'From ah dancing ah my name your call',\n",
       " 'We have to leave time to bat some ball',\n",
       " 'Everybody know Chris Gayle is a champion']"
      ]
     },
     "execution_count": 10,
     "metadata": {},
     "output_type": "execute_result"
    }
   ],
   "source": [
    "#Solution 02 c)\n",
    "rdd3=rdd.distinct().sortBy(len)\n",
    "rdd3.collect()"
   ]
  },
  {
   "cell_type": "code",
   "execution_count": 11,
   "metadata": {},
   "outputs": [
    {
     "data": {
      "text/plain": [
       "['Lara ',\n",
       " 'Obama ',\n",
       " 'Wendy ',\n",
       " 'Bunji ',\n",
       " 'Gayle ',\n",
       " 'Beenie ',\n",
       " 'Serena ',\n",
       " 'Bounty ',\n",
       " 'Machel ',\n",
       " 'Mandela ',\n",
       " 'Pollard ',\n",
       " '958 BOLT ',\n",
       " 'say Bravo ',\n",
       " 'Shelly-Ann ',\n",
       " 'Chris Gayle ',\n",
       " 'Michel Jordan ']"
      ]
     },
     "execution_count": 11,
     "metadata": {},
     "output_type": "execute_result"
    }
   ],
   "source": [
    "#Solution 02 d)\n",
    "rdd3.filter(lambda x:'champion' in x).map(lambda x: x.replace(\"is a champion\",\"\").replace(\"a champion\",\"\").replace(\"Everybody know \",\"\")).sortBy(len).collect()[:-3]\n"
   ]
  },
  {
   "cell_type": "code",
   "execution_count": 2,
   "metadata": {
    "collapsed": true
   },
   "outputs": [],
   "source": [
    "# 3) a) Create a Dataframe from cars.txt file and also change columns' dataype.\n",
    "#       {Accelerate:double/float,Cylinders:long/int,Engine_Disp/int:long,Horsepower:long/int,MPG:long/int,\n",
    "#        Model:string,Origin:string,Weight:long/int,Year:long/int,make:string}     3   \n",
    "#    b) Add one more column to your dataframe having mileage in kilometers per liter  Note(1MPG=0.43 KMPL)   2\n",
    "#    c) Count the number of cars which are having engine displacement more than 200cc and list then in ascending oder.      2                \n",
    "#    d) Find average weight of cars by their origin and year.               2                                \n",
    "\n"
   ]
  },
  {
   "cell_type": "code",
   "execution_count": 8,
   "metadata": {
    "collapsed": true
   },
   "outputs": [],
   "source": [
    "#3 a)\n",
    "rdd = sc.textFile(\"/home/affine/Desktop/Affine/07PySpark/Questions_Data_Pyspark_Test/cars.txt\")\n",
    "rdd1=rdd.map(lambda x:x.split(\"\\t\"))\n",
    "header=rdd1.first()\n",
    "rdd_data=rdd1.filter(lambda line:line!=header)\n",
    "rdd_data1=rdd_data.map(lambda x:Row(make=x[0],Model=x[1],MPG=int(x[2]),Cylynders=int(x[3]),Engine_Disp=int(x[4]),Horsepower=int(x[5]),Weight=int(x[6]),Accelerate=float(x[7]),Year=int(x[8]),Origin=x[9]))\n",
    "df=sqlContext.createDataFrame(rdd_data1)"
   ]
  },
  {
   "cell_type": "code",
   "execution_count": 9,
   "metadata": {},
   "outputs": [
    {
     "name": "stdout",
     "output_type": "stream",
     "text": [
      "root\n",
      " |-- Accelerate: double (nullable = true)\n",
      " |-- Cylynders: long (nullable = true)\n",
      " |-- Engine_Disp: long (nullable = true)\n",
      " |-- Horsepower: long (nullable = true)\n",
      " |-- MPG: long (nullable = true)\n",
      " |-- Model: string (nullable = true)\n",
      " |-- Origin: string (nullable = true)\n",
      " |-- Weight: long (nullable = true)\n",
      " |-- Year: long (nullable = true)\n",
      " |-- make: string (nullable = true)\n",
      "\n"
     ]
    }
   ],
   "source": [
    "df.printSchema()"
   ]
  },
  {
   "cell_type": "code",
   "execution_count": 21,
   "metadata": {},
   "outputs": [
    {
     "name": "stdout",
     "output_type": "stream",
     "text": [
      "+----------+---------+-----------+----------+---+--------------------+--------+------+----+---------+----+\n",
      "|Accelerate|Cylynders|Engine_Disp|Horsepower|MPG|               Model|  Origin|Weight|Year|     make|KMPL|\n",
      "+----------+---------+-----------+----------+---+--------------------+--------+------+----+---------+----+\n",
      "|       8.5|        8|        390|       190| 15|  amc ambassador dpl|American|  3850|  70|      amc|6.45|\n",
      "|      15.0|        6|        199|        90| 21|         amc gremlin|American|  2648|  70|      amc|9.03|\n",
      "|      15.5|        6|        199|        97| 18|          amc hornet|American|  2774|  70|      amc|7.74|\n",
      "|      12.0|        8|        304|       150| 16|       amc rebel sst|American|  3433|  70|      amc|6.88|\n",
      "|      10.0|        8|        455|       225| 14|buick estate wago...|American|  3086|  70|    buick|6.02|\n",
      "|      11.5|        8|        350|       165| 15|   buick skylark 320|American|  3693|  70|    buick|6.45|\n",
      "|      12.0|        8|        307|       130| 18|chevrolet chevell...|American|  3504|  70|chevrolet|7.74|\n",
      "|       9.0|        8|        454|       220| 14|    chevrolet impala|American|  4354|  70|chevrolet|6.02|\n",
      "|       9.5|        8|        400|       150| 15|chevrolet monte c...|American|  3761|  70|chevrolet|6.45|\n",
      "|      15.0|        8|        307|       200| 10|           chevy c20|American|  4376|  70|    chevy| 4.3|\n",
      "|      10.0|        8|        383|       170| 15| dodge challenger se|American|  3563|  70|    dodge|6.45|\n",
      "|      13.5|        8|        318|       210| 11|          dodge d200|American|  4382|  70|    dodge|4.73|\n",
      "|      14.0|        8|        360|       215| 10|           ford f250|American|  4615|  70|     ford| 4.3|\n",
      "|      10.0|        8|        429|       198| 15|    ford galaxie 500|American|  4341|  70|     ford|6.45|\n",
      "|      16.0|        6|        200|        85| 21|       ford maverick|American|  2587|  70|     ford|9.03|\n",
      "|      10.5|        8|        302|       140| 17|         ford torino|American|  3449|  70|     ford|7.31|\n",
      "|      18.5|        8|        304|       193|  9|            hi 1200d|American|  4732|  70|       hi|3.87|\n",
      "|       8.0|        8|        340|       160| 14|  plymouth 'cuda 340|American|  3609|  70| plymouth|6.02|\n",
      "|      15.5|        6|        198|        95| 22|     plymouth duster|American|  2833|  70| plymouth|9.46|\n",
      "|       8.5|        8|        440|       215| 14|   plymouth fury iii|American|  4312|  70| plymouth|6.02|\n",
      "+----------+---------+-----------+----------+---+--------------------+--------+------+----+---------+----+\n",
      "only showing top 20 rows\n",
      "\n"
     ]
    }
   ],
   "source": [
    "#b\n",
    "def mpg_to_kpl(x):\n",
    "    return float(x)*0.43\n",
    "mpg_to_kpl_udf= udf(mpg_to_kpl, FloatType())\n",
    "\n",
    "df2= df.withColumn(\"KMPL\",mpg_to_kpl_udf(df[\"MPG\"]))\n",
    "df2.show()"
   ]
  },
  {
   "cell_type": "code",
   "execution_count": 28,
   "metadata": {},
   "outputs": [
    {
     "name": "stdout",
     "output_type": "stream",
     "text": [
      "+----------+---------+-----------+----------+---+--------------------+--------+------+----+---------+\n",
      "|Accelerate|Cylynders|Engine_Disp|Horsepower|MPG|               Model|  Origin|Weight|Year|     make|\n",
      "+----------+---------+-----------+----------+---+--------------------+--------+------+----+---------+\n",
      "|      15.5|        6|        225|       105| 16|plymouth satellit...|American|  3439|  71| plymouth|\n",
      "|      15.5|        6|        232|       100| 18|         amc matador|American|  3288|  71|      amc|\n",
      "|      13.0|        6|        232|       100| 19|         amc gremlin|American|  2634|  71|      amc|\n",
      "|      14.5|        6|        250|        88| 18|        ford mustang|American|  3139|  71|     ford|\n",
      "|      15.5|        6|        250|       100| 17|chevrolet chevell...|American|  3329|  71|chevrolet|\n",
      "|      15.0|        6|        250|       100| 19|    pontiac firebird|American|  3282|  71|  pontiac|\n",
      "|      15.5|        6|        250|        88| 19|     ford torino 500|American|  3302|  71|     ford|\n",
      "|      13.5|        6|        258|       110| 18|amc hornet sporta...|American|  2962|  71|      amc|\n",
      "|      10.5|        8|        302|       140| 17|         ford torino|American|  3449|  70|     ford|\n",
      "|      12.0|        8|        304|       150| 16|       amc rebel sst|American|  3433|  70|      amc|\n",
      "|      12.5|        8|        304|       150| 15|    amc matador (sw)|American|  3892|  72|      amc|\n",
      "|      11.5|        8|        304|       150| 17|  amc ambassador sst|American|  3672|  72|      amc|\n",
      "|      18.5|        8|        304|       193|  9|            hi 1200d|American|  4732|  70|       hi|\n",
      "|      12.0|        8|        307|       130| 18|chevrolet chevell...|American|  3504|  70|chevrolet|\n",
      "|      14.0|        8|        307|       130| 13|chevrolet chevell...|American|  4098|  72|chevrolet|\n",
      "|      15.0|        8|        307|       200| 10|           chevy c20|American|  4376|  70|    chevy|\n",
      "|      13.5|        8|        318|       210| 11|          dodge d200|American|  4382|  70|    dodge|\n",
      "|      11.0|        8|        318|       150| 18|  plymouth satellite|American|  3436|  70| plymouth|\n",
      "|      13.0|        8|        318|       150| 14|   plymouth fury iii|American|  4096|  71| plymouth|\n",
      "|       8.0|        8|        340|       160| 14|  plymouth 'cuda 340|American|  3609|  70| plymouth|\n",
      "+----------+---------+-----------+----------+---+--------------------+--------+------+----+---------+\n",
      "only showing top 20 rows\n",
      "\n"
     ]
    }
   ],
   "source": [
    "#c)\n",
    "df.filter(df[\"Engine_Disp\"]>200).orderBy(\"Engine_Disp\").show()\n"
   ]
  },
  {
   "cell_type": "code",
   "execution_count": 24,
   "metadata": {},
   "outputs": [
    {
     "name": "stdout",
     "output_type": "stream",
     "text": [
      "+--------+----+------------------+\n",
      "|  Origin|Year|       avg(Weight)|\n",
      "+--------+----+------------------+\n",
      "|American|  70|            3716.5|\n",
      "|Japanese|  70|            2251.0|\n",
      "|European|  70|            2309.2|\n",
      "|American|  71|3472.9473684210525|\n",
      "|European|  71|            2024.0|\n",
      "|American|  72|3807.6666666666665|\n",
      "|Japanese|  71|            1936.0|\n",
      "+--------+----+------------------+\n",
      "\n"
     ]
    }
   ],
   "source": [
    "#d\n",
    "df.groupBy(\"Origin\",\"Year\").agg(avg(\"Weight\")).show()"
   ]
  },
  {
   "cell_type": "code",
   "execution_count": 34,
   "metadata": {},
   "outputs": [
    {
     "name": "stdout",
     "output_type": "stream",
     "text": [
      "root\n",
      " |-- SupplierID: integer (nullable = true)\n",
      " |-- SupplierName: string (nullable = true)\n",
      " |-- ContactName: string (nullable = true)\n",
      " |-- Address: string (nullable = true)\n",
      " |-- City: string (nullable = true)\n",
      " |-- PostalCode: string (nullable = true)\n",
      " |-- Country: string (nullable = true)\n",
      " |-- Phone: string (nullable = true)\n",
      "\n"
     ]
    },
    {
     "data": {
      "text/plain": [
       "Row(SupplierID=1, SupplierName='Exotic Liquid', ContactName='Charlotte Cooper', Address='49 Gilbert St.', City='London', PostalCode='EC1 4SD', Country='UK', Phone='(171) 555-2222')"
      ]
     },
     "execution_count": 34,
     "metadata": {},
     "output_type": "execute_result"
    }
   ],
   "source": [
    "#04)In Retail excel file see the data dictionary and understand the relationship among different tables.\n",
    "#   a)Create a column called Profit in Products table.(Price-Cost)   1\n",
    "#   b)Find out the top 3 high profit customer.                           3\n",
    "#   c)What are the total sales by Month/Quarter/Year.                    3\n",
    "\n",
    "directory=\"/home/affine/Desktop/Affine/07PySpark/Questions_Data_Pyspark_Test/retail/\"\n",
    "\n",
    "Orders=sqlContext.read.format('com.databricks.spark.csv').options(header='true', inferschema='true').load(directory+'Orders.csv')\n",
    "Employees=sqlContext.read.format('com.databricks.spark.csv').options(header='true', inferschema='true').load(directory+'Employees.csv')\n",
    "Customers=sqlContext.read.format('com.databricks.spark.csv').options(header='true', inferschema='true').load(directory+'Customers.csv')\n",
    "Orders=sqlContext.read.format('com.databricks.spark.csv').options(header='true', inferschema='true').load(directory+'Orders.csv')\n",
    "OrderDetails=sqlContext.read.format('com.databricks.spark.csv').options(header='true', inferschema='true').load(directory+'OrderDetails.csv')\n",
    "Products=sqlContext.read.format('com.databricks.spark.csv').options(header='true', inferschema='true').load(directory+'Products.csv')\n",
    "Shippers=sqlContext.read.format('com.databricks.spark.csv').options(header='true', inferschema='true').load(directory+'Shippers.csv')\n",
    "Suppliers=sqlContext.read.format('com.databricks.spark.csv').options(header='true', inferschema='true').load(directory+'Suppliers.csv')\n"
   ]
  },
  {
   "cell_type": "code",
   "execution_count": null,
   "metadata": {
    "collapsed": true
   },
   "outputs": [],
   "source": [
    "# 5) a) Assume you have a data which is 200MB in size and a cluster of 8 machines such that each machine \n",
    "#       comprises of 64GB Ram.Assume your data is partitioned into 200 small files.\n",
    "#       Which is the best option to choose in terms of time complexity and Why ??\n",
    "#         i)  Reduce the number of partitions of data and bring it to single machine.\n",
    "#         ii) Increase the number of partitions of data.                                               2 Marks \n",
    "\n",
    "#    b) Suppose you have a data divided into 200 small partitions. You want it to increase to 500 partitions.\n",
    "#       Which method would you use for it and why do you use that method ??                            2 Marks\n",
    "\n",
    "#    c) Suppose you have a data divided into 200 small partition . You want it to decrease to 50 partitions.\n",
    "#       Which method would you use for it and Why do you use that method.          2Marks"
   ]
  }
 ],
 "metadata": {
  "kernelspec": {
   "display_name": "Python 3",
   "language": "python",
   "name": "python3"
  },
  "language_info": {
   "codemirror_mode": {
    "name": "ipython",
    "version": 3
   },
   "file_extension": ".py",
   "mimetype": "text/x-python",
   "name": "python",
   "nbconvert_exporter": "python",
   "pygments_lexer": "ipython3",
   "version": "3.6.1"
  }
 },
 "nbformat": 4,
 "nbformat_minor": 2
}
