{
 "cells": [
  {
   "cell_type": "code",
   "execution_count": null,
   "metadata": {
    "collapsed": true
   },
   "outputs": [],
   "source": [
    "# What are DataFrames ???\n",
    "\n",
    "# A DataFrame is a distributed collection of data organised into named columns.\n",
    "# It is conceptually equivalent to a table in a relational database or a \n",
    "# dataframe in R/Python.\n",
    "# It can be constructed through\n",
    "# 1) Reading from CSV files/External Sources\n",
    "# 2) Existing RDD's\n"
   ]
  },
  {
   "cell_type": "code",
   "execution_count": null,
   "metadata": {
    "collapsed": true
   },
   "outputs": [],
   "source": [
    "# Features of DataFrames\n",
    "\n",
    "#  Ability to scale from kilobytes of data on a single laptop to petabytes on a large cluster\n",
    "#  Support for a wide array of data formats and storage systems\n",
    "#  State-of-the-art optimization and code generation through the Spark SQL Catalyst optimizer\n",
    "#  Seamless integration with all big data tooling and infrastructure via Spark\n",
    "#  APIs for Python, Java, Scala, and R (in development via SparkR)\n"
   ]
  },
  {
   "cell_type": "code",
   "execution_count": 1,
   "metadata": {},
   "outputs": [
    {
     "ename": "NameError",
     "evalue": "name 'sc' is not defined",
     "output_type": "error",
     "traceback": [
      "\u001b[0;31m---------------------------------------------------------------------------\u001b[0m",
      "\u001b[0;31mNameError\u001b[0m                                 Traceback (most recent call last)",
      "\u001b[0;32m<ipython-input-1-610c5f123506>\u001b[0m in \u001b[0;36m<module>\u001b[0;34m()\u001b[0m\n\u001b[1;32m      6\u001b[0m \u001b[0;34m\u001b[0m\u001b[0m\n\u001b[1;32m      7\u001b[0m \u001b[0;32mfrom\u001b[0m \u001b[0mpyspark\u001b[0m\u001b[0;34m.\u001b[0m\u001b[0msql\u001b[0m \u001b[0;32mimport\u001b[0m \u001b[0mSQLContext\u001b[0m\u001b[0;34m\u001b[0m\u001b[0m\n\u001b[0;32m----> 8\u001b[0;31m \u001b[0msqlContext\u001b[0m \u001b[0;34m=\u001b[0m \u001b[0mSQLContext\u001b[0m\u001b[0;34m(\u001b[0m\u001b[0msc\u001b[0m\u001b[0;34m)\u001b[0m\u001b[0;34m\u001b[0m\u001b[0m\n\u001b[0m\u001b[1;32m      9\u001b[0m \u001b[0msqlContext\u001b[0m\u001b[0;34m\u001b[0m\u001b[0m\n",
      "\u001b[0;31mNameError\u001b[0m: name 'sc' is not defined"
     ]
    }
   ],
   "source": [
    "# Similar to sc, entry point to all functionality in sparkSQL is SQLContext.\n",
    "# For Creating basic SQLContext\n",
    "# from pyspark.sql import SQLContext\n",
    "# sqlContext = SQLContext(sc)\n",
    "# sqlContext\n",
    "\n",
    "from pyspark.sql import SQLContext\n",
    "sqlContext = SQLContext(sc)\n",
    "sqlContext"
   ]
  },
  {
   "cell_type": "code",
   "execution_count": 24,
   "metadata": {},
   "outputs": [
    {
     "name": "stdout",
     "output_type": "stream",
     "text": [
      "+------+---+--------+------+\n",
      "|Name  |Age|BankName|Money |\n",
      "+------+---+--------+------+\n",
      "|Ramesh|23 |SBI     |400000|\n",
      "|Suresh|24 |PNB     |500000|\n",
      "+------+---+--------+------+\n",
      "only showing top 2 rows\n",
      "\n"
     ]
    }
   ],
   "source": [
    "# Create Dataframes.\n",
    "df = (sqlContext.read.\n",
    "      format('com.databricks.spark.csv')\n",
    "      .options(header='true', inferschema='true')\n",
    "      .load('/home/affine/Desktop/Training_Questions/dataframeinput.csv')\n",
    "      )\n",
    "df.show(2,False)"
   ]
  },
  {
   "cell_type": "code",
   "execution_count": 25,
   "metadata": {},
   "outputs": [
    {
     "name": "stdout",
     "output_type": "stream",
     "text": [
      "root\n",
      " |-- Name: string (nullable = true)\n",
      " |-- Age: integer (nullable = true)\n",
      " |-- BankName: string (nullable = true)\n",
      " |-- Money: integer (nullable = true)\n",
      "\n"
     ]
    }
   ],
   "source": [
    "df.printSchema()"
   ]
  },
  {
   "cell_type": "code",
   "execution_count": 29,
   "metadata": {},
   "outputs": [
    {
     "name": "stdout",
     "output_type": "stream",
     "text": [
      "+------+---+--------+-------+\n",
      "|  Name|Age|BankName|  Money|\n",
      "+------+---+--------+-------+\n",
      "|Ramesh| 23|     SBI| 400000|\n",
      "|Suresh| 24|     PNB| 500000|\n",
      "|Himesh| 18|   ICICI| 100000|\n",
      "|Ganesh| 50|    HDFC|1000000|\n",
      "|Vikash| 45|Yes Bank|5000000|\n",
      "|Mukesh| 30|     SBI|2000000|\n",
      "|Mikesh| 50|   ICICI| 300000|\n",
      "+------+---+--------+-------+\n",
      "\n"
     ]
    }
   ],
   "source": [
    "# DataFrame Operations\n",
    "df.show()"
   ]
  },
  {
   "cell_type": "code",
   "execution_count": 9,
   "metadata": {},
   "outputs": [
    {
     "name": "stdout",
     "output_type": "stream",
     "text": [
      "root\n",
      " |-- Name: string (nullable = true)\n",
      " |-- Age: string (nullable = true)\n",
      " |-- BankName: string (nullable = true)\n",
      " |-- Money: string (nullable = true)\n",
      "\n"
     ]
    }
   ],
   "source": [
    "df.printSchema()"
   ]
  },
  {
   "cell_type": "code",
   "execution_count": 30,
   "metadata": {},
   "outputs": [
    {
     "name": "stdout",
     "output_type": "stream",
     "text": [
      "+------+\n",
      "|  Name|\n",
      "+------+\n",
      "|Ganesh|\n",
      "|Vikash|\n",
      "|Mukesh|\n",
      "+------+\n",
      "\n"
     ]
    }
   ],
   "source": [
    "abc = 'Name'\n",
    "df[abc]\n",
    "df1 = df\n",
    "\n",
    "df.filter(df['Money']>=1000000).select('Name').show()\n",
    "#f.select('Name').filter(df['Money']>100000).show()"
   ]
  },
  {
   "cell_type": "code",
   "execution_count": 31,
   "metadata": {},
   "outputs": [
    {
     "name": "stdout",
     "output_type": "stream",
     "text": [
      "xyz100\n"
     ]
    }
   ],
   "source": [
    "abc = \"xyz\"+\"100\"\n",
    "print(abc)"
   ]
  },
  {
   "cell_type": "code",
   "execution_count": 34,
   "metadata": {},
   "outputs": [
    {
     "name": "stdout",
     "output_type": "stream",
     "text": [
      "+------+---+----------------+\n",
      "|  Name|Age|(Money + 100000)|\n",
      "+------+---+----------------+\n",
      "|Ramesh| 23|          500000|\n",
      "|Suresh| 24|          600000|\n",
      "|Himesh| 18|          200000|\n",
      "|Ganesh| 50|         1100000|\n",
      "|Vikash| 45|         5100000|\n",
      "|Mukesh| 30|         2100000|\n",
      "|Mikesh| 50|          400000|\n",
      "+------+---+----------------+\n",
      "\n"
     ]
    }
   ],
   "source": [
    "# selecting required columns using two different ways of df['Name'] and df.Age\n",
    "df.select('Name','Age',df['Money']+100000).show()"
   ]
  },
  {
   "cell_type": "code",
   "execution_count": 38,
   "metadata": {
    "collapsed": true
   },
   "outputs": [],
   "source": [
    "colName = 'Money'"
   ]
  },
  {
   "cell_type": "code",
   "execution_count": 39,
   "metadata": {},
   "outputs": [
    {
     "name": "stdout",
     "output_type": "stream",
     "text": [
      "+------+---+--------+-------+\n",
      "|  Name|Age|BankName|  Money|\n",
      "+------+---+--------+-------+\n",
      "|Ganesh| 50|    HDFC|1000000|\n",
      "|Vikash| 45|Yes Bank|5000000|\n",
      "|Mukesh| 30|     SBI|2000000|\n",
      "+------+---+--------+-------+\n",
      "\n"
     ]
    }
   ],
   "source": [
    "# filter\n",
    "df.filter(df[colName]>=1000000).show()"
   ]
  },
  {
   "cell_type": "code",
   "execution_count": 34,
   "metadata": {},
   "outputs": [
    {
     "name": "stdout",
     "output_type": "stream",
     "text": [
      "+--------+-----+\n",
      "|BankName|count|\n",
      "+--------+-----+\n",
      "|Yes Bank|    1|\n",
      "|    HDFC|    1|\n",
      "|     SBI|    2|\n",
      "|   ICICI|    2|\n",
      "|     PNB|    1|\n",
      "+--------+-----+\n",
      "\n"
     ]
    }
   ],
   "source": [
    "df.groupBy('BankName').count().show()\n",
    "#count1.show()"
   ]
  },
  {
   "cell_type": "code",
   "execution_count": null,
   "metadata": {
    "collapsed": true
   },
   "outputs": [],
   "source": []
  },
  {
   "cell_type": "code",
   "execution_count": 35,
   "metadata": {},
   "outputs": [
    {
     "name": "stdout",
     "output_type": "stream",
     "text": [
      "+----------+\n",
      "|max(count)|\n",
      "+----------+\n",
      "|         2|\n",
      "+----------+\n",
      "\n",
      "+--------+-----+\n",
      "|BankName|count|\n",
      "+--------+-----+\n",
      "|Yes Bank|    1|\n",
      "|    HDFC|    1|\n",
      "|     SBI|    2|\n",
      "|   ICICI|    2|\n",
      "|     PNB|    1|\n",
      "+--------+-----+\n",
      "\n"
     ]
    }
   ],
   "source": [
    "# groupBy\n",
    "count1 = df.groupBy('BankName').count()\n",
    "count1.agg({'count':'max'}).show()\n",
    "count1.show()"
   ]
  },
  {
   "cell_type": "code",
   "execution_count": 37,
   "metadata": {},
   "outputs": [
    {
     "name": "stdout",
     "output_type": "stream",
     "text": [
      "+------+---+--------+-------+------+---+--------+-------+\n",
      "|  Name|Age|BankName|  Money|  Name|Age|BankName|  Money|\n",
      "+------+---+--------+-------+------+---+--------+-------+\n",
      "|Vikash| 45|Yes Bank|5000000|Vikash| 45|Yes Bank|5000000|\n",
      "|Ganesh| 50|    HDFC|1000000|Ganesh| 50|    HDFC|1000000|\n",
      "|Ganesh| 50|    HDFC|1000000|Mikesh| 50|   ICICI| 300000|\n",
      "|Mikesh| 50|   ICICI| 300000|Ganesh| 50|    HDFC|1000000|\n",
      "|Mikesh| 50|   ICICI| 300000|Mikesh| 50|   ICICI| 300000|\n",
      "|Himesh| 18|   ICICI| 100000|Himesh| 18|   ICICI| 100000|\n",
      "|Ramesh| 23|     SBI| 400000|Ramesh| 23|     SBI| 400000|\n",
      "|Suresh| 24|     PNB| 500000|Suresh| 24|     PNB| 500000|\n",
      "|Mukesh| 30|     SBI|2000000|Mukesh| 30|     SBI|2000000|\n",
      "+------+---+--------+-------+------+---+--------+-------+\n",
      "\n"
     ]
    }
   ],
   "source": [
    "# join\n",
    "df1 = df\n",
    "df1.join(df,df1.Age==df.Age).show()"
   ]
  },
  {
   "cell_type": "code",
   "execution_count": 47,
   "metadata": {},
   "outputs": [
    {
     "name": "stdout",
     "output_type": "stream",
     "text": [
      "['Name', 'Age', 'BankName', 'Money']\n"
     ]
    }
   ],
   "source": [
    "# Columns\n",
    "col = df.columns\n",
    "print(col)"
   ]
  },
  {
   "cell_type": "code",
   "execution_count": 48,
   "metadata": {},
   "outputs": [
    {
     "data": {
      "text/plain": [
       "7"
      ]
     },
     "execution_count": 48,
     "metadata": {},
     "output_type": "execute_result"
    }
   ],
   "source": [
    "# count rows\n",
    "df.count()"
   ]
  },
  {
   "cell_type": "code",
   "execution_count": 49,
   "metadata": {},
   "outputs": [
    {
     "name": "stdout",
     "output_type": "stream",
     "text": [
      "+-------+------------------+------------------+\n",
      "|summary|               Age|             Money|\n",
      "+-------+------------------+------------------+\n",
      "|  count|                 7|                 7|\n",
      "|   mean|34.285714285714285|1328571.4285714286|\n",
      "| stddev|13.695671891930989|1739458.0436774797|\n",
      "|    min|                18|            100000|\n",
      "|    max|                50|           5000000|\n",
      "+-------+------------------+------------------+\n",
      "\n"
     ]
    }
   ],
   "source": [
    "# Describe   ---->>> it computes statistics for numeric columns\n",
    "df.describe().show()"
   ]
  },
  {
   "cell_type": "code",
   "execution_count": 50,
   "metadata": {},
   "outputs": [
    {
     "name": "stdout",
     "output_type": "stream",
     "text": [
      "+------+---+--------+-------+\n",
      "|  Name|Age|BankName|  Money|\n",
      "+------+---+--------+-------+\n",
      "|Himesh| 18|   ICICI| 100000|\n",
      "|Mikesh| 50|   ICICI| 300000|\n",
      "|Suresh| 24|     PNB| 500000|\n",
      "|Ganesh| 50|    HDFC|1000000|\n",
      "|Vikash| 45|Yes Bank|5000000|\n",
      "|Mukesh| 30|     SBI|2000000|\n",
      "|Ramesh| 23|     SBI| 400000|\n",
      "+------+---+--------+-------+\n",
      "\n"
     ]
    }
   ],
   "source": [
    "df.distinct().show()\n"
   ]
  },
  {
   "cell_type": "code",
   "execution_count": 42,
   "metadata": {},
   "outputs": [
    {
     "name": "stdout",
     "output_type": "stream",
     "text": [
      "+--------+\n",
      "|BankName|\n",
      "+--------+\n",
      "|Yes Bank|\n",
      "|    HDFC|\n",
      "|     SBI|\n",
      "|   ICICI|\n",
      "|     PNB|\n",
      "+--------+\n",
      "\n"
     ]
    }
   ],
   "source": [
    "df.select('BankName').distinct().show()"
   ]
  },
  {
   "cell_type": "code",
   "execution_count": 36,
   "metadata": {},
   "outputs": [
    {
     "name": "stdout",
     "output_type": "stream",
     "text": [
      "+------+---+--------+-------+\n",
      "|  Name|Age|BankName|  Money|\n",
      "+------+---+--------+-------+\n",
      "|Ramesh| 23|     SBI| 400000|\n",
      "|Suresh| 24|     PNB| 500000|\n",
      "|Himesh| 18|   ICICI| 100000|\n",
      "|Ganesh| 50|    HDFC|1000000|\n",
      "|Vikash| 45|Yes Bank|5000000|\n",
      "|Mukesh| 30|     SBI|2000000|\n",
      "|Mikesh| 50|   ICICI| 300000|\n",
      "+------+---+--------+-------+\n",
      "\n",
      "+------+--------+-------+\n",
      "|  Name|BankName|  Money|\n",
      "+------+--------+-------+\n",
      "|Ramesh|     SBI| 400000|\n",
      "|Suresh|     PNB| 500000|\n",
      "|Himesh|   ICICI| 100000|\n",
      "|Ganesh|    HDFC|1000000|\n",
      "|Vikash|Yes Bank|5000000|\n",
      "|Mukesh|     SBI|2000000|\n",
      "|Mikesh|   ICICI| 300000|\n",
      "+------+--------+-------+\n",
      "\n"
     ]
    }
   ],
   "source": [
    "# Drop Columns\n",
    "df1 = df.drop('Age')\n",
    "df.show()\n",
    "df1.show()"
   ]
  },
  {
   "cell_type": "code",
   "execution_count": 44,
   "metadata": {},
   "outputs": [
    {
     "name": "stdout",
     "output_type": "stream",
     "text": [
      "+------+---+--------+-------+\n",
      "|  Name|Age|BankName|  Money|\n",
      "+------+---+--------+-------+\n",
      "|Ramesh| 23|     SBI| 400000|\n",
      "|Suresh| 24|     PNB| 500000|\n",
      "|Himesh| 18|   ICICI| 100000|\n",
      "|Ganesh| 50|    HDFC|1000000|\n",
      "|Vikash| 45|Yes Bank|5000000|\n",
      "|Mukesh| 30|     SBI|2000000|\n",
      "|Mikesh| 50|   ICICI| 300000|\n",
      "+------+---+--------+-------+\n",
      "\n"
     ]
    }
   ],
   "source": [
    "df.show()"
   ]
  },
  {
   "cell_type": "code",
   "execution_count": 54,
   "metadata": {},
   "outputs": [
    {
     "name": "stdout",
     "output_type": "stream",
     "text": [
      "+------+---+--------+-------+\n",
      "|  Name|Age|BankName|  Money|\n",
      "+------+---+--------+-------+\n",
      "|Vikash| 45|Yes Bank|5000000|\n",
      "|Ganesh| 50|    HDFC|1000000|\n",
      "|Ramesh| 23|     SBI| 400000|\n",
      "|Himesh| 18|   ICICI| 100000|\n",
      "|Suresh| 24|     PNB| 500000|\n",
      "+------+---+--------+-------+\n",
      "\n"
     ]
    }
   ],
   "source": [
    "# drop Duplicates on the basis of list of columns\n",
    "df1=df.dropDuplicates(['BankName']).show()"
   ]
  },
  {
   "cell_type": "code",
   "execution_count": 41,
   "metadata": {},
   "outputs": [
    {
     "data": {
      "text/plain": [
       "23"
      ]
     },
     "execution_count": 41,
     "metadata": {},
     "output_type": "execute_result"
    }
   ],
   "source": [
    "# Returns the first row\n",
    "df.first()"
   ]
  },
  {
   "cell_type": "code",
   "execution_count": 65,
   "metadata": {},
   "outputs": [
    {
     "data": {
      "text/plain": [
       "[Row(Name='Ramesh', Age=23, BankName='SBI', Money=400000),\n",
       " Row(Name='Suresh', Age=24, BankName='PNB', Money=500000),\n",
       " Row(Name='Himesh', Age=18, BankName='ICICI', Money=100000),\n",
       " Row(Name='Ganesh', Age=50, BankName='HDFC', Money=1000000)]"
      ]
     },
     "execution_count": 65,
     "metadata": {},
     "output_type": "execute_result"
    }
   ],
   "source": [
    "# returns first n rows\n",
    "df.head(4)"
   ]
  },
  {
   "cell_type": "code",
   "execution_count": 51,
   "metadata": {},
   "outputs": [
    {
     "name": "stdout",
     "output_type": "stream",
     "text": [
      "+------+---+--------+-------+\n",
      "|  Name|Age|BankName|  Money|\n",
      "+------+---+--------+-------+\n",
      "|Vikash| 45|Yes Bank|5000000|\n",
      "|Mukesh| 30|     SBI|2000000|\n",
      "|Ganesh| 50|    HDFC|1000000|\n",
      "|Suresh| 24|     PNB| 500000|\n",
      "|Ramesh| 23|     SBI| 400000|\n",
      "|Mikesh| 50|   ICICI| 300000|\n",
      "|Himesh| 18|   ICICI| 100000|\n",
      "+------+---+--------+-------+\n",
      "\n"
     ]
    }
   ],
   "source": [
    "# Sorting on the basis of columns\n",
    "df.sort('Money',ascending=False).show()"
   ]
  },
  {
   "cell_type": "code",
   "execution_count": 20,
   "metadata": {
    "collapsed": true
   },
   "outputs": [],
   "source": [
    "# union of two dataframes\n",
    "df1 =df\n",
    "df1.unionAll(df).show()"
   ]
  },
  {
   "cell_type": "code",
   "execution_count": 69,
   "metadata": {},
   "outputs": [
    {
     "name": "stdout",
     "output_type": "stream",
     "text": [
      "+------+--------+---+-------+\n",
      "|  Name|BankName|Age|  Money|\n",
      "+------+--------+---+-------+\n",
      "|Ramesh|     SBI| 23| 400000|\n",
      "|Suresh|     PNB| 24| 500000|\n",
      "|Himesh|   ICICI| 18| 100000|\n",
      "|Ganesh|    HDFC| 50|1000000|\n",
      "|Vikash|Yes Bank| 45|5000000|\n",
      "|Mukesh|     SBI| 30|2000000|\n",
      "|Mikesh|   ICICI| 50| 300000|\n",
      "+------+--------+---+-------+\n",
      "\n"
     ]
    }
   ],
   "source": [
    "list1= [\"Name\",\"BankName\",\"Age\",\"Money\"]\n",
    "df3 = df.select(list1).show()"
   ]
  },
  {
   "cell_type": "code",
   "execution_count": null,
   "metadata": {
    "collapsed": true
   },
   "outputs": [],
   "source": [
    "# Creating Udf (User Defined Functions) to work on columns\n",
    "# Creating udf is a three step process\n",
    "# a) Create a python function which u want to apply on each cell\n",
    "# b) register that python function or create udf out of this python func.\n",
    "# c) call the udf created.\n",
    "from pyspark.sql.functions import udf\n",
    "from pyspark.sql.types import StringType\n",
    "def yesNo(x,y):\n",
    "    if(x>=23 and y>=100000):\n",
    "        return 'Yes'\n",
    "    else:\n",
    "        return 'NO'\n",
    "    \n",
    "udfyesNo = udf(yesNo,StringType())\n",
    "df1 = df.withColumn('YES_NO',udfyesNo('Age','Money'))\n",
    "df1.show()"
   ]
  },
  {
   "cell_type": "code",
   "execution_count": null,
   "metadata": {
    "collapsed": true
   },
   "outputs": [],
   "source": []
  }
 ],
 "metadata": {
  "anaconda-cloud": {},
  "kernelspec": {
   "display_name": "Python 3",
   "language": "python",
   "name": "python3"
  },
  "language_info": {
   "codemirror_mode": {
    "name": "ipython",
    "version": 3
   },
   "file_extension": ".py",
   "mimetype": "text/x-python",
   "name": "python",
   "nbconvert_exporter": "python",
   "pygments_lexer": "ipython3",
   "version": "3.6.1"
  }
 },
 "nbformat": 4,
 "nbformat_minor": 1
}
