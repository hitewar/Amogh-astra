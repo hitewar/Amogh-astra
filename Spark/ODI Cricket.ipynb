{
 "cells": [
  {
   "cell_type": "code",
   "execution_count": 2,
   "metadata": {},
   "outputs": [],
   "source": [
    "from pyspark import SparkContext\n",
    "from pyspark import SparkConf"
   ]
  },
  {
   "cell_type": "code",
   "execution_count": 232,
   "metadata": {},
   "outputs": [
    {
     "data": {
      "text/plain": [
       "Row(Team 1_Afghanistan=0, Team 1_Australia=1, Team 1_Bangladesh=0, Team 1_Bermuda=0, Team 1_Canada=0, Team 1_East Africa=0, Team 1_England=0, Team 1_Hong Kong=0, Team 1_India=0, Team 1_Ireland=0, Team 1_Kenya=0, Team 1_Namibia=0, Team 1_Netherlands=0, Team 1_New Zealand=0, Team 1_P.N.G.=0, Team 1_Pakistan=0, Team 1_Scotland=0, Team 1_South Africa=0, Team 1_Sri Lanka=0, Team 1_U.A.E.=0, Team 1_U.S.A.=0, Team 1_West Indies=0, Team 1_Zimbabwe=0, Team 2_Afghanistan=0, Team 2_Australia=0, Team 2_Bangladesh=0, Team 2_Bermuda=0, Team 2_Canada=0, Team 2_East Africa=0, Team 2_England=1, Team 2_Hong Kong=0, Team 2_India=0, Team 2_Ireland=0, Team 2_Kenya=0, Team 2_Namibia=0, Team 2_Netherlands=0, Team 2_New Zealand=0, Team 2_P.N.G.=0, Team 2_Pakistan=0, Team 2_Scotland=0, Team 2_South Africa=0, Team 2_Sri Lanka=0, Team 2_U.A.E.=0, Team 2_U.S.A.=0, Team 2_West Indies=0, Team 2_Zimbabwe=0, Ground_Aberdeen=0, Ground_Abu Dhabi=0, Ground_Adelaide=0, Ground_Ahmedabad=0, Ground_Albion=0, Ground_Albury=0, Ground_Amritsar=0, Ground_Amstelveen=0, Ground_Auckland=0, Ground_Ayr=0, Ground_Ballarat=0, Ground_Basseterre=0, Ground_Belfast=0, Ground_Bengaluru=0, Ground_Benoni=0, Ground_Berri=0, Ground_Birmingham=0, Ground_Bloemfontein=0, Ground_Bogra=0, Ground_Bridgetown=0, Ground_Brisbane=0, Ground_Bristol=0, Ground_Bulawayo=0, Ground_Cairns=0, Ground_Canberra=0, Ground_Canterbury=0, Ground_Cape Town=0, Ground_Cardiff=0, Ground_Castries=0, Ground_Centurion=0, Ground_Chandigarh=0, Ground_Chelmsford=0, Ground_Chennai=0, Ground_Chester=0, Ground_Chittagong=0, Ground_Christchurch=0, Ground_Colombo=0, Ground_Cuttack=0, Ground_Dambulla=0, Ground_Darwin=0, Ground_Delhi=0, Ground_Derby=0, Ground_Devonport=0, Ground_Dhaka=0, Ground_Dharamsala=0, Ground_Dubai=0, Ground_Dublin=0, Ground_Dunedin=0, Ground_Durban=0, Ground_East London=0, Ground_Edinburgh=0, Ground_Faisalabad=0, Ground_Faridabad=0, Ground_Fatullah=0, Ground_Galle=0, Ground_Georgetown=0, Ground_Glasgow=0, Ground_Greater Noida=0, Ground_Gros Islet=0, Ground_Gujranwala=0, Ground_Guwahati=0, Ground_Gwalior=0, Ground_Hambantota=0, Ground_Hamilton=0, Ground_Harare=0, Ground_Hobart=0, Ground_Hove=0, Ground_Hyderabad=0, Ground_ICCA Dubai=0, Ground_Indore=0, Ground_Jaipur=0, Ground_Jalandhar=0, Ground_Jamshedpur=0, Ground_Jodhpur=0, Ground_Johannesburg=0, Ground_Kandy=0, Ground_Kanpur=0, Ground_Karachi=0, Ground_Khulna=0, Ground_Kimberley=0, Ground_King City=0, Ground_Kingston=0, Ground_Kingstown=0, Ground_Kochi=0, Ground_Kolkata=0, Ground_Kuala Lumpur=0, Ground_Kwekwe=0, Ground_Lahore=0, Ground_Launceston=0, Ground_Leeds=0, Ground_Leicester=0, Ground_Lincoln=0, Ground_Lord's=0, Ground_Lucknow=0, Ground_Manchester=0, Ground_Margao=0, Ground_Melbourne=1, Ground_Mohali=0, Ground_Mombasa=0, Ground_Mong Kok=0, Ground_Moratuwa=0, Ground_Mount Maunganui=0, Ground_Multan=0, Ground_Mumbai=0, Ground_Nagpur=0, Ground_Nairobi=0, Ground_Napier=0, Ground_Nelson=0, Ground_New Delhi=0, Ground_New Plymouth=0, Ground_North Sound=0, Ground_Northampton=0, Ground_Nottingham=0, Ground_Paarl=0, Ground_Pallekele=0, Ground_Patna=0, Ground_Perth=0, Ground_Peshawar=0, Ground_Pietermaritzburg=0, Ground_Port Elizabeth=0, Ground_Port Moresby=0, Ground_Port of Spain=0, Ground_Potchefstroom=0, Ground_Providence=0, Ground_Pune=0, Ground_Queenstown=0, Ground_Quetta=0, Ground_Rajkot=0, Ground_Ranchi=0, Ground_Rawalpindi=0, Ground_Roseau=0, Ground_Rotterdam=0, Ground_Sahiwal=0, Ground_Sargodha=0, Ground_Scarborough=0, Ground_Schiedam=0, Ground_Sharjah=0, Ground_Sheikhupura=0, Ground_Sialkot=0, Ground_Singapore=0, Ground_Southampton=0, Ground_Srinagar=0, Ground_St George's=0, Ground_St John's=0, Ground_Swansea=0, Ground_Sydney=0, Ground_Tangier=0, Ground_Taunton=0, Ground_Taupo=0, Ground_The Hague=0, Ground_The Oval=0, Ground_Thiruvananthapuram=0, Ground_Toronto=0, Ground_Townsville=0, Ground_Tunbridge Wells=0, Ground_Vadodara=0, Ground_Vijayawada=0, Ground_Visakhapatnam=0, Ground_Wellington=0, Ground_Whangarei=0, Ground_Worcester=0, Innings_Team1_First=0, Innings_Team1_Second=1, Innings_Team2_First=1, Innings_Team2_Second=0, Venue_Team1_Away=0, Venue_Team1_Home=1, Venue_Team1_Neutral=0, Venue_Team2_Away=1, Venue_Team2_Home=0, Venue_Team2_Neutral=0, Winner_Afghanistan=0, Winner_Australia=1, Winner_Bangladesh=0, Winner_Bermuda=0, Winner_Canada=0, Winner_East Africa=0, Winner_England=0, Winner_Hong Kong=0, Winner_India=0, Winner_Ireland=0, Winner_Kenya=0, Winner_Namibia=0, Winner_Netherlands=0, Winner_New Zealand=0, Winner_P.N.G.=0, Winner_Pakistan=0, Winner_Scotland=0, Winner_South Africa=0, Winner_Sri Lanka=0, Winner_U.A.E.=0, Winner_U.S.A.=0, Winner_West Indies=0, Winner_Zimbabwe=0)"
      ]
     },
     "execution_count": 232,
     "metadata": {},
     "output_type": "execute_result"
    }
   ],
   "source": [
    "df = sqlContext.read.format('com.databricks.spark.csv').options(header='true', inferschema='true',)\\\n",
    "      .load('/home/affine/Desktop/odi_cricket_matches/CategoricalDataset.csv')\n",
    "df.head()\n"
   ]
  },
  {
   "cell_type": "code",
   "execution_count": 233,
   "metadata": {},
   "outputs": [
    {
     "data": {
      "text/plain": [
       "{'Ground',\n",
       " 'Innings_Team1',\n",
       " 'Innings_Team2',\n",
       " 'Team 1',\n",
       " 'Team 2',\n",
       " 'Venue_Team1',\n",
       " 'Venue_Team2',\n",
       " 'Winner'}"
      ]
     },
     "execution_count": 233,
     "metadata": {},
     "output_type": "execute_result"
    }
   ],
   "source": [
    "col = df.columns\n",
    "Field_Keywords = set([ i.replace(\"_\" + i.split(\"_\")[-1],\"\") for i in col])\n",
    "Field_Keywords"
   ]
  },
  {
   "cell_type": "code",
   "execution_count": 234,
   "metadata": {},
   "outputs": [
    {
     "name": "stdout",
     "output_type": "stream",
     "text": [
      "161\n",
      "2\n",
      "2\n",
      "3\n",
      "3\n",
      "23\n",
      "23\n",
      "23\n",
      "7494\n"
     ]
    }
   ],
   "source": [
    "print(sum([(\"Ground\" in i) for i in col]))\n",
    "print(sum([(\"Innings_Team1\" in i) for i in col]))\n",
    "print(sum([(\"Innings_Team2\" in i) for i in col]))\n",
    "print(sum([(\"Venue_Team1\" in i) for i in col]))\n",
    "print(sum([(\"Venue_Team2\" in i) for i in col]))\n",
    "print(sum([(\"Team 1\" in i) for i in col]))\n",
    "print(sum([(\"Team 2\" in i) for i in col]))\n",
    "print(sum([(\"Winner\" in i) for i in col]))\n",
    "print(df.count())"
   ]
  },
  {
   "cell_type": "code",
   "execution_count": 235,
   "metadata": {},
   "outputs": [],
   "source": [
    "#Replace unnecessory characters from Columns name\n",
    "for i in col:\n",
    "    df = df.withColumnRenamed(i,i.replace(\".\",\"\"))\n"
   ]
  },
  {
   "cell_type": "code",
   "execution_count": 239,
   "metadata": {},
   "outputs": [
    {
     "data": {
      "text/plain": [
       "['Team 1_PNG',\n",
       " 'Team 1_Pakistan',\n",
       " 'Team 1_Scotland',\n",
       " 'Team 1_South Africa',\n",
       " 'Team 1_Sri Lanka',\n",
       " 'Team 1_UAE',\n",
       " 'Team 1_USA',\n",
       " 'Team 1_West Indies',\n",
       " 'Team 1_Zimbabwe',\n",
       " 'Team 2_Afghanistan',\n",
       " 'Team 2_Australia',\n",
       " 'Team 2_Bangladesh',\n",
       " 'Team 2_Bermuda',\n",
       " 'Team 2_Canada',\n",
       " 'Team 2_East Africa',\n",
       " 'Team 2_England',\n",
       " 'Team 2_Hong Kong',\n",
       " 'Team 2_India',\n",
       " 'Team 2_Ireland',\n",
       " 'Team 2_Kenya',\n",
       " 'Team 2_Namibia',\n",
       " 'Team 2_Netherlands',\n",
       " 'Team 2_New Zealand',\n",
       " 'Team 2_PNG',\n",
       " 'Team 2_Pakistan',\n",
       " 'Team 2_Scotland',\n",
       " 'Team 2_South Africa',\n",
       " 'Team 2_Sri Lanka',\n",
       " 'Team 2_UAE',\n",
       " 'Team 2_USA',\n",
       " 'Team 2_West Indies',\n",
       " 'Team 2_Zimbabwe',\n",
       " 'Innings_Team2_First',\n",
       " 'Innings_Team2_Second',\n",
       " 'Winner_Afghanistan',\n",
       " 'Winner_Australia',\n",
       " 'Winner_Bangladesh',\n",
       " 'Winner_Bermuda',\n",
       " 'Winner_Canada',\n",
       " 'Winner_East Africa',\n",
       " 'Winner_England',\n",
       " 'Winner_Hong Kong',\n",
       " 'Winner_India',\n",
       " 'Winner_Ireland',\n",
       " 'Winner_Kenya',\n",
       " 'Winner_Namibia',\n",
       " 'Winner_Netherlands',\n",
       " 'Winner_New Zealand',\n",
       " 'Winner_PNG',\n",
       " 'Winner_Pakistan',\n",
       " 'Winner_Scotland',\n",
       " 'Winner_South Africa',\n",
       " 'Winner_Sri Lanka',\n",
       " 'Winner_UAE',\n",
       " 'Winner_USA',\n",
       " 'Winner_West Indies',\n",
       " 'Winner_Zimbabwe',\n",
       " 'Innings_Team1',\n",
       " 'Venue_Team2',\n",
       " 'Ground',\n",
       " 'Venue_Team1',\n",
       " 'Team 1']"
      ]
     },
     "execution_count": 239,
     "metadata": {},
     "output_type": "execute_result"
    }
   ],
   "source": [
    "col = df.columns\n",
    "col"
   ]
  },
  {
   "cell_type": "code",
   "execution_count": 495,
   "metadata": {},
   "outputs": [
    {
     "ename": "AnalysisException",
     "evalue": "'Cannot resolve column name \"Team 1_PNG\" among (Team 1, Venue1, Winner);'",
     "output_type": "error",
     "traceback": [
      "\u001b[0;31m---------------------------------------------------------------------------\u001b[0m",
      "\u001b[0;31mPy4JJavaError\u001b[0m                             Traceback (most recent call last)",
      "\u001b[0;32m/home/affine/pyspark/spark/python/pyspark/sql/utils.py\u001b[0m in \u001b[0;36mdeco\u001b[0;34m(*a, **kw)\u001b[0m\n\u001b[1;32m     62\u001b[0m         \u001b[0;32mtry\u001b[0m\u001b[0;34m:\u001b[0m\u001b[0;34m\u001b[0m\u001b[0m\n\u001b[0;32m---> 63\u001b[0;31m             \u001b[0;32mreturn\u001b[0m \u001b[0mf\u001b[0m\u001b[0;34m(\u001b[0m\u001b[0;34m*\u001b[0m\u001b[0ma\u001b[0m\u001b[0;34m,\u001b[0m \u001b[0;34m**\u001b[0m\u001b[0mkw\u001b[0m\u001b[0;34m)\u001b[0m\u001b[0;34m\u001b[0m\u001b[0m\n\u001b[0m\u001b[1;32m     64\u001b[0m         \u001b[0;32mexcept\u001b[0m \u001b[0mpy4j\u001b[0m\u001b[0;34m.\u001b[0m\u001b[0mprotocol\u001b[0m\u001b[0;34m.\u001b[0m\u001b[0mPy4JJavaError\u001b[0m \u001b[0;32mas\u001b[0m \u001b[0me\u001b[0m\u001b[0;34m:\u001b[0m\u001b[0;34m\u001b[0m\u001b[0m\n",
      "\u001b[0;32m/home/affine/pyspark/spark/python/lib/py4j-0.10.4-src.zip/py4j/protocol.py\u001b[0m in \u001b[0;36mget_return_value\u001b[0;34m(answer, gateway_client, target_id, name)\u001b[0m\n\u001b[1;32m    318\u001b[0m                     \u001b[0;34m\"An error occurred while calling {0}{1}{2}.\\n\"\u001b[0m\u001b[0;34m.\u001b[0m\u001b[0;34m\u001b[0m\u001b[0m\n\u001b[0;32m--> 319\u001b[0;31m                     format(target_id, \".\", name), value)\n\u001b[0m\u001b[1;32m    320\u001b[0m             \u001b[0;32melse\u001b[0m\u001b[0;34m:\u001b[0m\u001b[0;34m\u001b[0m\u001b[0m\n",
      "\u001b[0;31mPy4JJavaError\u001b[0m: An error occurred while calling o7711.apply.\n: org.apache.spark.sql.AnalysisException: Cannot resolve column name \"Team 1_PNG\" among (Team 1, Venue1, Winner);\n\tat org.apache.spark.sql.Dataset$$anonfun$resolve$1.apply(Dataset.scala:216)\n\tat org.apache.spark.sql.Dataset$$anonfun$resolve$1.apply(Dataset.scala:216)\n\tat scala.Option.getOrElse(Option.scala:121)\n\tat org.apache.spark.sql.Dataset.resolve(Dataset.scala:215)\n\tat org.apache.spark.sql.Dataset.col(Dataset.scala:1105)\n\tat org.apache.spark.sql.Dataset.apply(Dataset.scala:1075)\n\tat sun.reflect.GeneratedMethodAccessor82.invoke(Unknown Source)\n\tat sun.reflect.DelegatingMethodAccessorImpl.invoke(DelegatingMethodAccessorImpl.java:43)\n\tat java.lang.reflect.Method.invoke(Method.java:498)\n\tat py4j.reflection.MethodInvoker.invoke(MethodInvoker.java:244)\n\tat py4j.reflection.ReflectionEngine.invoke(ReflectionEngine.java:357)\n\tat py4j.Gateway.invoke(Gateway.java:280)\n\tat py4j.commands.AbstractCommand.invokeMethod(AbstractCommand.java:132)\n\tat py4j.commands.CallCommand.execute(CallCommand.java:79)\n\tat py4j.GatewayConnection.run(GatewayConnection.java:214)\n\tat java.lang.Thread.run(Thread.java:748)\n",
      "\nDuring handling of the above exception, another exception occurred:\n",
      "\u001b[0;31mAnalysisException\u001b[0m                         Traceback (most recent call last)",
      "\u001b[0;32m<ipython-input-495-ec7349a65316>\u001b[0m in \u001b[0;36m<module>\u001b[0;34m()\u001b[0m\n\u001b[1;32m     14\u001b[0m     \u001b[0mtemp_col\u001b[0m \u001b[0;34m=\u001b[0m \u001b[0;34m[\u001b[0m\u001b[0mtemp\u001b[0m \u001b[0;32mfor\u001b[0m \u001b[0mtemp\u001b[0m \u001b[0;32min\u001b[0m \u001b[0mcol\u001b[0m \u001b[0;32mif\u001b[0m \u001b[0mi\u001b[0m \u001b[0;32min\u001b[0m \u001b[0mtemp\u001b[0m\u001b[0;34m]\u001b[0m\u001b[0;34m\u001b[0m\u001b[0m\n\u001b[1;32m     15\u001b[0m     \u001b[0;32mfor\u001b[0m \u001b[0mj\u001b[0m \u001b[0;32min\u001b[0m \u001b[0mtemp_col\u001b[0m\u001b[0;34m:\u001b[0m\u001b[0;34m\u001b[0m\u001b[0m\n\u001b[0;32m---> 16\u001b[0;31m         \u001b[0mdf\u001b[0m \u001b[0;34m=\u001b[0m \u001b[0mdf\u001b[0m\u001b[0;34m.\u001b[0m\u001b[0mwithColumn\u001b[0m\u001b[0;34m(\u001b[0m\u001b[0mi\u001b[0m\u001b[0;34m,\u001b[0m\u001b[0mFillValues_s_udf\u001b[0m\u001b[0;34m(\u001b[0m\u001b[0mi\u001b[0m\u001b[0;34m,\u001b[0m\u001b[0mlit\u001b[0m\u001b[0;34m(\u001b[0m\u001b[0mj\u001b[0m\u001b[0;34m.\u001b[0m\u001b[0msplit\u001b[0m\u001b[0;34m(\u001b[0m\u001b[0;34m\"_\"\u001b[0m\u001b[0;34m)\u001b[0m\u001b[0;34m[\u001b[0m\u001b[0;34m-\u001b[0m\u001b[0;36m1\u001b[0m\u001b[0;34m]\u001b[0m\u001b[0;34m)\u001b[0m\u001b[0;34m,\u001b[0m\u001b[0mdf\u001b[0m\u001b[0;34m[\u001b[0m\u001b[0mj\u001b[0m\u001b[0;34m]\u001b[0m\u001b[0;34m)\u001b[0m\u001b[0;34m)\u001b[0m\u001b[0;34m.\u001b[0m\u001b[0mdrop\u001b[0m\u001b[0;34m(\u001b[0m\u001b[0mj\u001b[0m\u001b[0;34m)\u001b[0m\u001b[0;34m\u001b[0m\u001b[0m\n\u001b[0m\u001b[1;32m     17\u001b[0m \u001b[0;34m\u001b[0m\u001b[0m\n\u001b[1;32m     18\u001b[0m \u001b[0;34m\u001b[0m\u001b[0m\n",
      "\u001b[0;32m/home/affine/pyspark/spark/python/pyspark/sql/dataframe.py\u001b[0m in \u001b[0;36m__getitem__\u001b[0;34m(self, item)\u001b[0m\n\u001b[1;32m    997\u001b[0m         \"\"\"\n\u001b[1;32m    998\u001b[0m         \u001b[0;32mif\u001b[0m \u001b[0misinstance\u001b[0m\u001b[0;34m(\u001b[0m\u001b[0mitem\u001b[0m\u001b[0;34m,\u001b[0m \u001b[0mbasestring\u001b[0m\u001b[0;34m)\u001b[0m\u001b[0;34m:\u001b[0m\u001b[0;34m\u001b[0m\u001b[0m\n\u001b[0;32m--> 999\u001b[0;31m             \u001b[0mjc\u001b[0m \u001b[0;34m=\u001b[0m \u001b[0mself\u001b[0m\u001b[0;34m.\u001b[0m\u001b[0m_jdf\u001b[0m\u001b[0;34m.\u001b[0m\u001b[0mapply\u001b[0m\u001b[0;34m(\u001b[0m\u001b[0mitem\u001b[0m\u001b[0;34m)\u001b[0m\u001b[0;34m\u001b[0m\u001b[0m\n\u001b[0m\u001b[1;32m   1000\u001b[0m             \u001b[0;32mreturn\u001b[0m \u001b[0mColumn\u001b[0m\u001b[0;34m(\u001b[0m\u001b[0mjc\u001b[0m\u001b[0;34m)\u001b[0m\u001b[0;34m\u001b[0m\u001b[0m\n\u001b[1;32m   1001\u001b[0m         \u001b[0;32melif\u001b[0m \u001b[0misinstance\u001b[0m\u001b[0;34m(\u001b[0m\u001b[0mitem\u001b[0m\u001b[0;34m,\u001b[0m \u001b[0mColumn\u001b[0m\u001b[0;34m)\u001b[0m\u001b[0;34m:\u001b[0m\u001b[0;34m\u001b[0m\u001b[0m\n",
      "\u001b[0;32m/home/affine/pyspark/spark/python/lib/py4j-0.10.4-src.zip/py4j/java_gateway.py\u001b[0m in \u001b[0;36m__call__\u001b[0;34m(self, *args)\u001b[0m\n\u001b[1;32m   1131\u001b[0m         \u001b[0manswer\u001b[0m \u001b[0;34m=\u001b[0m \u001b[0mself\u001b[0m\u001b[0;34m.\u001b[0m\u001b[0mgateway_client\u001b[0m\u001b[0;34m.\u001b[0m\u001b[0msend_command\u001b[0m\u001b[0;34m(\u001b[0m\u001b[0mcommand\u001b[0m\u001b[0;34m)\u001b[0m\u001b[0;34m\u001b[0m\u001b[0m\n\u001b[1;32m   1132\u001b[0m         return_value = get_return_value(\n\u001b[0;32m-> 1133\u001b[0;31m             answer, self.gateway_client, self.target_id, self.name)\n\u001b[0m\u001b[1;32m   1134\u001b[0m \u001b[0;34m\u001b[0m\u001b[0m\n\u001b[1;32m   1135\u001b[0m         \u001b[0;32mfor\u001b[0m \u001b[0mtemp_arg\u001b[0m \u001b[0;32min\u001b[0m \u001b[0mtemp_args\u001b[0m\u001b[0;34m:\u001b[0m\u001b[0;34m\u001b[0m\u001b[0m\n",
      "\u001b[0;32m/home/affine/pyspark/spark/python/pyspark/sql/utils.py\u001b[0m in \u001b[0;36mdeco\u001b[0;34m(*a, **kw)\u001b[0m\n\u001b[1;32m     67\u001b[0m                                              e.java_exception.getStackTrace()))\n\u001b[1;32m     68\u001b[0m             \u001b[0;32mif\u001b[0m \u001b[0ms\u001b[0m\u001b[0;34m.\u001b[0m\u001b[0mstartswith\u001b[0m\u001b[0;34m(\u001b[0m\u001b[0;34m'org.apache.spark.sql.AnalysisException: '\u001b[0m\u001b[0;34m)\u001b[0m\u001b[0;34m:\u001b[0m\u001b[0;34m\u001b[0m\u001b[0m\n\u001b[0;32m---> 69\u001b[0;31m                 \u001b[0;32mraise\u001b[0m \u001b[0mAnalysisException\u001b[0m\u001b[0;34m(\u001b[0m\u001b[0ms\u001b[0m\u001b[0;34m.\u001b[0m\u001b[0msplit\u001b[0m\u001b[0;34m(\u001b[0m\u001b[0;34m': '\u001b[0m\u001b[0;34m,\u001b[0m \u001b[0;36m1\u001b[0m\u001b[0;34m)\u001b[0m\u001b[0;34m[\u001b[0m\u001b[0;36m1\u001b[0m\u001b[0;34m]\u001b[0m\u001b[0;34m,\u001b[0m \u001b[0mstackTrace\u001b[0m\u001b[0;34m)\u001b[0m\u001b[0;34m\u001b[0m\u001b[0m\n\u001b[0m\u001b[1;32m     70\u001b[0m             \u001b[0;32mif\u001b[0m \u001b[0ms\u001b[0m\u001b[0;34m.\u001b[0m\u001b[0mstartswith\u001b[0m\u001b[0;34m(\u001b[0m\u001b[0;34m'org.apache.spark.sql.catalyst.analysis'\u001b[0m\u001b[0;34m)\u001b[0m\u001b[0;34m:\u001b[0m\u001b[0;34m\u001b[0m\u001b[0m\n\u001b[1;32m     71\u001b[0m                 \u001b[0;32mraise\u001b[0m \u001b[0mAnalysisException\u001b[0m\u001b[0;34m(\u001b[0m\u001b[0ms\u001b[0m\u001b[0;34m.\u001b[0m\u001b[0msplit\u001b[0m\u001b[0;34m(\u001b[0m\u001b[0;34m': '\u001b[0m\u001b[0;34m,\u001b[0m \u001b[0;36m1\u001b[0m\u001b[0;34m)\u001b[0m\u001b[0;34m[\u001b[0m\u001b[0;36m1\u001b[0m\u001b[0;34m]\u001b[0m\u001b[0;34m,\u001b[0m \u001b[0mstackTrace\u001b[0m\u001b[0;34m)\u001b[0m\u001b[0;34m\u001b[0m\u001b[0m\n",
      "\u001b[0;31mAnalysisException\u001b[0m: 'Cannot resolve column name \"Team 1_PNG\" among (Team 1, Venue1, Winner);'"
     ]
    }
   ],
   "source": [
    "from pyspark.sql.functions import udf\n",
    "from pyspark.sql.functions import lit\n",
    "from pyspark.sql.types import StringType,IntegerType\n",
    "def FillValues_s(new_field,field_name_value,value):\n",
    "    if(value==1):\n",
    "        return new_field+field_name_value\n",
    "    else:\n",
    "        return new_field+\"\"\n",
    "    \n",
    "FillValues_s_udf = udf(FillValues_s,StringType())\n",
    "    \n",
    "for i in Field_Keywords:\n",
    "    df = df.withColumn(i,lit(\"\"))\n",
    "    temp_col = [temp for temp in col if i in temp]\n",
    "    for j in temp_col:\n",
    "        df = df.withColumn(i,FillValues_s_udf(i,lit(j.split(\"_\")[-1]),df[j])).drop(j)\n",
    "    \n",
    "    \n"
   ]
  },
  {
   "cell_type": "code",
   "execution_count": 352,
   "metadata": {},
   "outputs": [
    {
     "data": {
      "text/plain": [
       "DataFrame[Scorecard: string, Team 1: string, Team 2: string, Winner: string, Margin: string, Ground: string, Match Date: string]"
      ]
     },
     "execution_count": 352,
     "metadata": {},
     "output_type": "execute_result"
    }
   ],
   "source": [
    "df"
   ]
  },
  {
   "cell_type": "code",
   "execution_count": 528,
   "metadata": {},
   "outputs": [
    {
     "data": {
      "text/plain": [
       "3932"
      ]
     },
     "execution_count": 528,
     "metadata": {},
     "output_type": "execute_result"
    }
   ],
   "source": [
    "from pyspark import SparkContext\n",
    "from pyspark import SparkConf\n",
    "df = sqlContext.read.format('com.databricks.spark.csv').options(header='true', inferschema='true',)\\\n",
    "      .load('/home/affine/Desktop/odi_cricket_matches/originalDataset.csv')\n",
    "df.head()\n",
    "df.count()"
   ]
  },
  {
   "cell_type": "code",
   "execution_count": 529,
   "metadata": {},
   "outputs": [
    {
     "name": "stdout",
     "output_type": "stream",
     "text": [
      "930\n",
      "Total win Percent :  51.182795698924735\n",
      "Total loss Percent :  44.516129032258064\n",
      "Total draw Percent :  4.301075268817205\n"
     ]
    },
    {
     "data": {
      "text/plain": [
       "True"
      ]
     },
     "execution_count": 529,
     "metadata": {},
     "output_type": "execute_result"
    }
   ],
   "source": [
    "#What is the india's Total Win/Loss/Tie Percentage?\n",
    "total_matches = df[((df[\"Team 1\"] == \"India\") |(df[\"Team 2\"]==\"India\"))].count()\n",
    "total_wins = df[df.Winner == 'India'].count()\n",
    "total_loss= df[((df[\"Team 1\"] == \"India\") |(df[\"Team 2\"]==\"India\")) & ((df['Winner']!=\"India\") &(df['Winner']!=\"no result\"))].count()\n",
    "total_draw = df[((df[\"Team 1\"] == \"India\") |(df[\"Team 2\"]==\"India\")) & (df['Winner']==\"no result\") ].count()\n",
    "print(total_matches)\n",
    "print(\"Total win Percent : \",total_wins/total_matches *100)\n",
    "print(\"Total loss Percent : \",total_loss/total_matches *100)\n",
    "print(\"Total draw Percent : \",total_draw/total_matches *100)\n",
    "#QC checks\n",
    "total_matches  == total_wins+total_loss+total_draw"
   ]
  },
  {
   "cell_type": "code",
   "execution_count": 530,
   "metadata": {},
   "outputs": [],
   "source": [
    "df1 = sqlContext.read.format('com.databricks.spark.csv').options(header='true', inferschema='true',)\\\n",
    "      .load('/home/affine/Desktop/odi_cricket_matches/ContinousDataset.csv')\n",
    "\n",
    "#What is India's Win/Loss/Tie percentage in away and home matches?\n",
    "#Home Grounds of each teams\n",
    "home_grounds = (df1[df1[\"Venue_Team1\"]==\"Home\"][[\"Team 1\",\"Venue_Team1\",\"Ground\"]]).union(df1[df1[\"Venue_Team2\"]==\"Home\"][[\"Team 2\",\"Venue_Team2\",\"Ground\"]]).distinct()\n",
    "home_grounds = (home_grounds.withColumnRenamed(\"Team 1\",\"Team\").withColumnRenamed(\"Venue_Team1\",\"Venue\"))\n",
    "home_grounds1=home_grounds.withColumnRenamed(\"Ground\",\"Ground1\").withColumnRenamed(\"Venue\",\"Venue1\")\n",
    "home_grounds2=home_grounds.withColumnRenamed(\"Ground\",\"Ground2\").withColumnRenamed(\"Venue\",\"Venue2\")\n",
    "\n"
   ]
  },
  {
   "cell_type": "code",
   "execution_count": 531,
   "metadata": {},
   "outputs": [
    {
     "name": "stdout",
     "output_type": "stream",
     "text": [
      "3932\n"
     ]
    }
   ],
   "source": [
    "df = df.join(home_grounds1,((df[\"Team 1\"] == home_grounds1[\"Team\"])&(df[\"Ground\"] == home_grounds1[\"Ground1\"])),'left')\n",
    "print(df.count())"
   ]
  },
  {
   "cell_type": "code",
   "execution_count": 532,
   "metadata": {},
   "outputs": [
    {
     "name": "stdout",
     "output_type": "stream",
     "text": [
      "3932\n"
     ]
    }
   ],
   "source": [
    "df = df.join(home_grounds2,((df[\"Team 2\"] == home_grounds2[\"Team\"])&(df[\"Ground\"] == home_grounds2[\"Ground2\"])),'left')\n",
    "print(df.count())"
   ]
  },
  {
   "cell_type": "code",
   "execution_count": 533,
   "metadata": {},
   "outputs": [],
   "source": [
    "def venue_decide(x,y):\n",
    "    if x==\"Home\":\n",
    "        return \"Home\"\n",
    "    elif y==\"Home\":\n",
    "        return \"Away\"\n",
    "    else:\n",
    "        return \"Neutral\"\n",
    "           \n",
    "venue_decide_udf = udf(venue_decide,StringType())\n",
    "df = df.withColumn(\"Venue1\",venue_decide_udf(df[\"Venue1\"],df[\"Venue2\"]))\n",
    "df = df.withColumn(\"Venue2\",venue_decide_udf(df[\"Venue2\"],df[\"Venue1\"]))"
   ]
  },
  {
   "cell_type": "code",
   "execution_count": 548,
   "metadata": {},
   "outputs": [
    {
     "name": "stdout",
     "output_type": "stream",
     "text": [
      "+---------+-----------+-----------+-----------+---------+------------+---------------+-----------+-------+------------+----+-------+-------+\n",
      "|Scorecard|     Team 1|     Team 2|     Winner|   Margin|      Ground|     Match Date|       Team| Venue1|     Ground1|Team| Venue2|Ground2|\n",
      "+---------+-----------+-----------+-----------+---------+------------+---------------+-----------+-------+------------+----+-------+-------+\n",
      "|  ODI # 1|  Australia|    England|  Australia|5 wickets|   Melbourne|    Jan 5, 1971|  Australia|   Home|   Melbourne|null|   Away|   null|\n",
      "|  ODI # 2|    England|  Australia|    England|6 wickets|  Manchester|   Aug 24, 1972|    England|   Home|  Manchester|null|   Away|   null|\n",
      "|  ODI # 3|    England|  Australia|  Australia|5 wickets|      Lord's|   Aug 26, 1972|    England|   Home|      Lord's|null|   Away|   null|\n",
      "|  ODI # 4|    England|  Australia|    England|2 wickets|  Birmingham|   Aug 28, 1972|    England|   Home|  Birmingham|null|   Away|   null|\n",
      "|  ODI # 5|New Zealand|   Pakistan|New Zealand|  22 runs|Christchurch|   Feb 11, 1973|New Zealand|   Home|Christchurch|null|   Away|   null|\n",
      "|  ODI # 6|    England|New Zealand|    England|7 wickets|     Swansea|   Jul 18, 1973|    England|   Home|     Swansea|null|   Away|   null|\n",
      "|  ODI # 7|    England|New Zealand|  no result|     null|  Manchester|   Jul 20, 1973|    England|   Home|  Manchester|null|   Away|   null|\n",
      "|  ODI # 8|    England|West Indies|    England| 1 wicket|       Leeds|    Sep 5, 1973|    England|   Home|       Leeds|null|   Away|   null|\n",
      "|  ODI # 9|    England|West Indies|West Indies|8 wickets|    The Oval|    Sep 7, 1973|    England|   Home|    The Oval|null|   Away|   null|\n",
      "| ODI # 10|New Zealand|  Australia|  Australia|7 wickets|     Dunedin|   Mar 30, 1974|New Zealand|   Home|     Dunedin|null|   Away|   null|\n",
      "| ODI # 11|New Zealand|  Australia|  Australia|  31 runs|Christchurch|   Mar 31, 1974|New Zealand|   Home|Christchurch|null|   Away|   null|\n",
      "| ODI # 12|    England|      India|    England|4 wickets|       Leeds|   Jul 13, 1974|    England|   Home|       Leeds|null|   Away|   null|\n",
      "| ODI # 13|    England|      India|    England|6 wickets|    The Oval|Jul 15-16, 1974|    England|   Home|    The Oval|null|   Away|   null|\n",
      "| ODI # 14|    England|   Pakistan|   Pakistan|7 wickets|  Nottingham|   Aug 31, 1974|    England|   Home|  Nottingham|null|   Away|   null|\n",
      "| ODI # 15|    England|   Pakistan|   Pakistan|8 wickets|  Birmingham|    Sep 3, 1974|    England|   Home|  Birmingham|null|   Away|   null|\n",
      "| ODI # 16|  Australia|    England|    England|3 wickets|   Melbourne|    Jan 1, 1975|  Australia|   Home|   Melbourne|null|   Away|   null|\n",
      "| ODI # 17|New Zealand|    England|  no result|     null|     Dunedin|    Mar 8, 1975|New Zealand|   Home|     Dunedin|null|   Away|   null|\n",
      "| ODI # 18|New Zealand|    England|  no result|     null|  Wellington|    Mar 9, 1975|New Zealand|   Home|  Wellington|null|   Away|   null|\n",
      "| ODI # 19|    England|      India|    England| 202 runs|      Lord's|    Jun 7, 1975|    England|   Home|      Lord's|null|   Away|   null|\n",
      "| ODI # 20|East Africa|New Zealand|New Zealand| 181 runs|  Birmingham|    Jun 7, 1975|       null|Neutral|        null|null|Neutral|   null|\n",
      "+---------+-----------+-----------+-----------+---------+------------+---------------+-----------+-------+------------+----+-------+-------+\n",
      "only showing top 20 rows\n",
      "\n"
     ]
    }
   ],
   "source": [
    "df.show()"
   ]
  },
  {
   "cell_type": "code",
   "execution_count": 546,
   "metadata": {},
   "outputs": [],
   "source": [
    "df.count()\n",
    "#Indian Home Matches\n",
    "\n",
    "total_matches1 = df[(((df[\"Team 1\"] == \"India\") & (df[\"Venue1\"] == \"Home\"))|((df[\"Team 2\"]==  \"India\") & (df[\"Venue1\"] == \"Home\")))].count()\n"
   ]
  },
  {
   "cell_type": "code",
   "execution_count": 552,
   "metadata": {},
   "outputs": [
    {
     "name": "stdout",
     "output_type": "stream",
     "text": [
      "293\n",
      "Total win Percent :  58.36177474402731\n",
      "Total loss Percent :  38.907849829351534\n",
      "Total draw Percent :  2.7303754266211606\n"
     ]
    },
    {
     "data": {
      "text/plain": [
       "True"
      ]
     },
     "execution_count": 552,
     "metadata": {},
     "output_type": "execute_result"
    }
   ],
   "source": [
    "#Indian Home Matches\n",
    "\n",
    "total_matches1 = df[(((df[\"Team 1\"] == \"India\") & (df[\"Venue1\"] == \"Home\"))|((df[\"Team 2\"]==  \"India\") & (df[\"Venue2\"] == \"Home\")))].count()\n",
    "\n",
    "total_wins1 = df[(df.Winner == 'India') & (((df[\"Team 1\"] == \"India\") & (df[\"Venue1\"] == \"Home\")) | ((df[\"Team 2\"]==  \"India\") & (df[\"Venue2\"] == \"Home\")))].count()\n",
    "\n",
    "total_loss1= df[(((df[\"Team 1\"] == \"India\") & (df[\"Venue1\"] == \"Home\"))|((df[\"Team 2\"]==  \"India\") & (df[\"Venue2\"] == \"Home\")))\\\n",
    "                 & ((df['Winner']!=\"India\") &(df['Winner']!=\"no result\"))].count()\n",
    "total_draw1 = df[(((df[\"Team 1\"] == \"India\") & (df[\"Venue1\"] == \"Home\"))|((df[\"Team 2\"]==  \"India\") & (df[\"Venue2\"] == \"Home\")))\\\n",
    "                 & (df['Winner']==\"no result\") ].count()\n",
    "print(total_matches1)\n",
    "print(\"Total win Percent : \",total_wins1/total_matches1 *100)\n",
    "print(\"Total loss Percent : \",total_loss1/total_matches1 *100)\n",
    "print(\"Total draw Percent : \",total_draw1/total_matches1 *100)\n",
    "#QC checks\n",
    "total_matches1  == total_wins1+total_loss1+total_draw1"
   ]
  },
  {
   "cell_type": "code",
   "execution_count": 554,
   "metadata": {},
   "outputs": [
    {
     "name": "stdout",
     "output_type": "stream",
     "text": [
      "271\n",
      "Total win Percent :  40.959409594095945\n",
      "Total loss Percent :  54.61254612546126\n",
      "Total draw Percent :  4.428044280442804\n"
     ]
    },
    {
     "data": {
      "text/plain": [
       "True"
      ]
     },
     "execution_count": 554,
     "metadata": {},
     "output_type": "execute_result"
    }
   ],
   "source": [
    "#Indian Home Matches\n",
    "\n",
    "total_matches1 = df[(((df[\"Team 1\"] == \"India\") & (df[\"Venue1\"] == \"Away\"))|((df[\"Team 2\"]==  \"India\") & (df[\"Venue2\"] == \"Away\")))].count()\n",
    "\n",
    "total_wins1 = df[(df.Winner == 'India') & (((df[\"Team 1\"] == \"India\") & (df[\"Venue1\"] == \"Away\")) | ((df[\"Team 2\"]==  \"India\") & (df[\"Venue2\"] == \"Away\")))].count()\n",
    "\n",
    "total_loss1=  df[(((df[\"Team 1\"] == \"India\") & (df[\"Venue1\"] == \"Away\"))|((df[\"Team 2\"]==  \"India\") & (df[\"Venue2\"] == \"Away\")))\\\n",
    "                 & ((df['Winner']!=\"India\") &(df['Winner']!=\"no result\"))].count()\n",
    "total_draw1 = df[(((df[\"Team 1\"] == \"India\") & (df[\"Venue1\"] == \"Away\"))|((df[\"Team 2\"]==  \"India\") &(df[\"Venue2\"] == \"Away\")))\\\n",
    "                 & (df['Winner']==\"no result\") ].count()\n",
    "print(total_matches1)\n",
    "print(\"Total win Percent : \",total_wins1/total_matches1 *100)\n",
    "print(\"Total loss Percent : \",total_loss1/total_matches1 *100)\n",
    "print(\"Total draw Percent : \",total_draw1/total_matches1 *100)\n",
    "#QC checks\n",
    "total_matches1  == total_wins1+total_loss1+total_draw1"
   ]
  },
  {
   "cell_type": "code",
   "execution_count": 555,
   "metadata": {},
   "outputs": [
    {
     "name": "stdout",
     "output_type": "stream",
     "text": [
      "366\n",
      "Total win Percent :  53.00546448087432\n",
      "Total loss Percent :  41.53005464480874\n",
      "Total draw Percent :  5.46448087431694\n"
     ]
    },
    {
     "data": {
      "text/plain": [
       "True"
      ]
     },
     "execution_count": 555,
     "metadata": {},
     "output_type": "execute_result"
    }
   ],
   "source": [
    "#Indian Neutral Matches\n",
    "\n",
    "total_matches1 = df[(((df[\"Team 1\"] == \"India\") & (df[\"Venue1\"] == \"Neutral\"))|((df[\"Team 2\"]==  \"India\") & (df[\"Venue2\"] == \"Neutral\")))].count()\n",
    "\n",
    "total_wins1 = df[(df.Winner == 'India') & (((df[\"Team 1\"] == \"India\") & (df[\"Venue1\"] == \"Neutral\")) | ((df[\"Team 2\"]==  \"India\") & (df[\"Venue2\"] == \"Neutral\")))].count()\n",
    "\n",
    "total_loss1=  df[(((df[\"Team 1\"] == \"India\") & (df[\"Venue1\"] == \"Neutral\"))|((df[\"Team 2\"]==  \"India\") & (df[\"Venue2\"] == \"Neutral\")))\\\n",
    "                 & ((df['Winner']!=\"India\") &(df['Winner']!=\"no result\"))].count()\n",
    "total_draw1 = df[(((df[\"Team 1\"] == \"India\") & (df[\"Venue1\"] == \"Neutral\"))|((df[\"Team 2\"]==  \"India\") &(df[\"Venue2\"] == \"Neutral\")))\\\n",
    "                 & (df['Winner']==\"no result\") ].count()\n",
    "print(total_matches1)\n",
    "print(\"Total win Percent : \",total_wins1/total_matches1 *100)\n",
    "print(\"Total loss Percent : \",total_loss1/total_matches1 *100)\n",
    "print(\"Total draw Percent : \",total_draw1/total_matches1 *100)\n",
    "#QC checks\n",
    "total_matches1  == total_wins1+total_loss1+total_draw1"
   ]
  },
  {
   "cell_type": "code",
   "execution_count": 556,
   "metadata": {},
   "outputs": [
    {
     "data": {
      "text/plain": [
       "930"
      ]
     },
     "execution_count": 556,
     "metadata": {},
     "output_type": "execute_result"
    }
   ],
   "source": [
    "271+366+293"
   ]
  },
  {
   "cell_type": "code",
   "execution_count": 573,
   "metadata": {},
   "outputs": [],
   "source": [
    "#How many matches has india played against different ICC teams?\n",
    "indian_matches = (df[df[\"Team 1\"]==\"India\"][[\"Team 1\",\"Team 2\"]]).union(df[df[\"Team 2\"]==\"India\"][[\"Team 2\",\"Team 1\"]])\n",
    "indian_matches = indian_matches.withColumnRenamed(\"Team 1\",\"Team1\").withColumnRenamed(\"Team 2\",\"Team2\")"
   ]
  },
  {
   "cell_type": "code",
   "execution_count": 574,
   "metadata": {},
   "outputs": [
    {
     "name": "stdout",
     "output_type": "stream",
     "text": [
      "+-----+------------+--------+\n",
      "|Team1|       Team2|count(1)|\n",
      "+-----+------------+--------+\n",
      "|India|      U.A.E.|       3|\n",
      "|India|    Zimbabwe|      63|\n",
      "|India| Afghanistan|       1|\n",
      "|India|       Kenya|      13|\n",
      "|India|     Bermuda|       1|\n",
      "|India|     Namibia|       1|\n",
      "|India|     England|      96|\n",
      "|India|   Hong Kong|       1|\n",
      "|India|    Scotland|       1|\n",
      "|India| Netherlands|       2|\n",
      "|India| East Africa|       1|\n",
      "|India|South Africa|      77|\n",
      "|India|     Ireland|       3|\n",
      "|India| West Indies|     121|\n",
      "|India|   Sri Lanka|     155|\n",
      "|India|  Bangladesh|      33|\n",
      "|India|   Australia|     128|\n",
      "|India|    Pakistan|     129|\n",
      "|India| New Zealand|     101|\n",
      "+-----+------------+--------+\n",
      "\n"
     ]
    }
   ],
   "source": [
    "indian_matches.groupBy([\"Team1\",\"Team2\"]).agg({\"*\":\"count\"}).show()"
   ]
  },
  {
   "cell_type": "code",
   "execution_count": 583,
   "metadata": {},
   "outputs": [
    {
     "name": "stdout",
     "output_type": "stream",
     "text": [
      "+-----+-----------+--------+--------+\n",
      "|Team1|      Team2|Win_flag|count(1)|\n",
      "+-----+-----------+--------+--------+\n",
      "|India|Afghanistan|     Win|       1|\n",
      "|India|  Australia|     Win|      45|\n",
      "|India|  Australia|    Loss|      83|\n",
      "|India| Bangladesh|    Loss|       6|\n",
      "|India| Bangladesh|     Win|      27|\n",
      "|India|    Bermuda|     Win|       1|\n",
      "|India|East Africa|     Win|       1|\n",
      "|India|    England|     Win|      52|\n",
      "|India|    England|    Loss|      44|\n",
      "|India|  Hong Kong|     Win|       1|\n",
      "|India|    Ireland|     Win|       3|\n",
      "|India|      Kenya|    Loss|       2|\n",
      "|India|      Kenya|     Win|      11|\n",
      "|India|    Namibia|     Win|       1|\n",
      "|India|Netherlands|     Win|       2|\n",
      "|India|New Zealand|     Win|      51|\n",
      "|India|New Zealand|    Loss|      50|\n",
      "|India|   Pakistan|    Loss|      77|\n",
      "|India|   Pakistan|     Win|      52|\n",
      "|India|   Scotland|     Win|       1|\n",
      "+-----+-----------+--------+--------+\n",
      "only showing top 20 rows\n",
      "\n"
     ]
    }
   ],
   "source": [
    "#How many india has won or lost against different team?\n",
    "indian_matches = (df[df[\"Team 1\"]==\"India\"][[\"Team 1\",\"Team 2\",\"Winner\"]]).union(df[df[\"Team 2\"]==\"India\"][[\"Team 2\",\"Team 1\",\"Winner\"]])\n",
    "indian_matches = indian_matches.withColumnRenamed(\"Team 1\",\"Team1\").withColumnRenamed(\"Team 2\",\"Team2\")\n",
    "def flag_maker(x,y,z):\n",
    "    if z==\"India\":\n",
    "        return \"Win\"\n",
    "    elif y!=\"no result\":\n",
    "        return \"Loss\"\n",
    "    else:\n",
    "        return \"Draw\"\n",
    "flag_maker_udf = udf(flag_maker,StringType())\n",
    "indian_matches = indian_matches.withColumn(\"Win_flag\",flag_maker_udf(indian_matches[\"Team1\"],indian_matches[\"Team2\"],indian_matches[\"Winner\"]))\n",
    "indian_matches.groupBy([\"Team1\",\"Team2\",\"Win_flag\"]).agg({\"*\":\"count\"}).orderBy([\"Team1\",\"Team2\"]).show()"
   ]
  },
  {
   "cell_type": "code",
   "execution_count": 612,
   "metadata": {
    "collapsed": true
   },
   "outputs": [],
   "source": [
    "#Which are the home and way grounds where India has played most number of matches?\n",
    "indian_matches_ground = (df[df[\"Team 1\"]==\"India\"][[\"Team 1\",\"Ground\",\"Venue1\"]]).union(df[df[\"Team 2\"]==\"India\"][[\"Team 2\",\"Ground\",\"Venue2\"]])\n",
    "indian_matches_ground = indian_matches_ground.withColumnRenamed(\"Team 1\",\"Team\").withColumnRenamed(\"Venue1\",\"Venue\")"
   ]
  },
  {
   "cell_type": "code",
   "execution_count": 615,
   "metadata": {},
   "outputs": [
    {
     "data": {
      "text/plain": [
       "'Kolkata'"
      ]
     },
     "execution_count": 615,
     "metadata": {},
     "output_type": "execute_result"
    }
   ],
   "source": [
    "indian_matches_ground[indian_matches_ground[\"Venue\"]==\"Home\"].groupBy([\"Team\",\"Ground\"]).agg({\"*\":\"count\"}).sort(\"count(1)\",ascending = False)\\\n",
    ".limit(1).collect()[0][\"Ground\"]"
   ]
  },
  {
   "cell_type": "code",
   "execution_count": 616,
   "metadata": {},
   "outputs": [
    {
     "data": {
      "text/plain": [
       "'Dhaka'"
      ]
     },
     "execution_count": 616,
     "metadata": {},
     "output_type": "execute_result"
    }
   ],
   "source": [
    "indian_matches_ground[indian_matches_ground[\"Venue\"]==\"Away\"].groupBy([\"Team\",\"Ground\"]).agg({\"*\":\"count\"}).sort(\"count(1)\",ascending = False)\\\n",
    ".limit(1).collect()[0][\"Ground\"]"
   ]
  },
  {
   "cell_type": "code",
   "execution_count": 626,
   "metadata": {},
   "outputs": [
    {
     "data": {
      "text/plain": [
       "DataFrame[Margin: string]"
      ]
     },
     "execution_count": 626,
     "metadata": {},
     "output_type": "execute_result"
    }
   ],
   "source": [
    "#What has been the average Indian Win or Loss by Runs per year?\n",
    "\n",
    "#Lets see when india won the matches\n",
    "df[(df[\"Winner\"] == \"India\" )&(df[\"Margin\"].contains(\"runs\"))][[\"Margin\"]]"
   ]
  },
  {
   "cell_type": "code",
   "execution_count": null,
   "metadata": {
    "collapsed": true
   },
   "outputs": [],
   "source": []
  }
 ],
 "metadata": {
  "kernelspec": {
   "display_name": "Python 3",
   "language": "python",
   "name": "python3"
  },
  "language_info": {
   "codemirror_mode": {
    "name": "ipython",
    "version": 3
   },
   "file_extension": ".py",
   "mimetype": "text/x-python",
   "name": "python",
   "nbconvert_exporter": "python",
   "pygments_lexer": "ipython3",
   "version": "3.6.1"
  }
 },
 "nbformat": 4,
 "nbformat_minor": 2
}
